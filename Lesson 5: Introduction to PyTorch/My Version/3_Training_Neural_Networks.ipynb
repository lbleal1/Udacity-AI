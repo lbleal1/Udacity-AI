{
  "nbformat": 4,
  "nbformat_minor": 0,
  "metadata": {
    "kernelspec": {
      "display_name": "Python 3",
      "language": "python",
      "name": "python3"
    },
    "language_info": {
      "codemirror_mode": {
        "name": "ipython",
        "version": 3
      },
      "file_extension": ".py",
      "mimetype": "text/x-python",
      "name": "python",
      "nbconvert_exporter": "python",
      "pygments_lexer": "ipython3",
      "version": "3.6.7"
    },
    "colab": {
      "name": "3 Training Neural Networks",
      "provenance": []
    }
  },
  "cells": [
    {
      "cell_type": "markdown",
      "metadata": {
        "id": "kSLhYC75_Hn5",
        "colab_type": "text"
      },
      "source": [
        "# Previously\n",
        "\n",
        "We learned how to define neural networks plus the forward pass via using the MNIST dataset from using the weight matrices and matrix multiplications to using the `nn` PyTorch module. Do you remember that our results gave us a normal distribution? That's because we haven't trained yet our network. That's why we shall dive in now to training the neural network. "
      ]
    },
    {
      "cell_type": "markdown",
      "metadata": {
        "id": "ePk5OcDF_45T",
        "colab_type": "text"
      },
      "source": [
        "# Objectives\n",
        "\n",
        "In this notebook, we shall:\n",
        "- change our perspective when we hear the word \"training\"\n",
        "- learn the subprocesses of training\n",
        "  - here we cover about losses, backpropagation, and optimizers \n",
        "- see how these subprocesses works as a whole"
      ]
    },
    {
      "cell_type": "markdown",
      "metadata": {
        "id": "rRDZv3oZQHdc",
        "colab_type": "text"
      },
      "source": [
        "# Conceptual Overview of Training Neural Networks"
      ]
    },
    {
      "cell_type": "markdown",
      "metadata": {
        "id": "FY5hVIB1Xn4U",
        "colab_type": "text"
      },
      "source": [
        "## Neural networks with non-linear activations\n",
        "\n",
        "\n",
        "<img src=\"https://github.com/lbleal1/deep-learning-v2-pytorch/blob/master/intro-to-pytorch/assets/function_approx.png?raw=true\" width=500px>\n",
        "\n",
        "- work like universal function approximators\n",
        "  - there is some function that maps your input to the output. \n",
        "    For example, images of handwritten digits to class probabilities. The power of neural networks is that we can train them to approximate this function, and basically any function given enough data and compute time.\n",
        "\n",
        "\n"
      ]
    },
    {
      "cell_type": "markdown",
      "metadata": {
        "id": "31fdgNC6Q05x",
        "colab_type": "text"
      },
      "source": [
        "# Overview of Training Neural Networks\n",
        "\n",
        "1. At first the network is naive, it doesn't know the function mapping the inputs to the outputs.\n",
        "\n",
        "2. We train the network by showing it examples of real data, then adjusting the network parameters such that it approximates this function.\n",
        "\n",
        "3. Find the Loss\n",
        "To find these parameters stated in #2, we need to know how poorly the network is predicting the real outputs. For this we calculate a \n",
        "  \n",
        "  **loss function** \n",
        "- also called the cost\n",
        "- a measure of our prediction error\n",
        " For example, the mean squared loss is often used in regression and binary classification problems\n",
        "\n",
        "4. Minimize Loss and Updating the weights\n",
        "We then minimize this loss with respect to the network parameters, we can find configurations where the loss is at a minimum and the network is able to predict the correct labels with high accuracy.\n",
        "\n",
        "**(2) Two Ways of Minimizing Loss**\n",
        "\n",
        "  1. **Gradient Descent**\n",
        "    - used for Single Layer Neural Networks\n",
        "    - the process of finding this minimum\n",
        "    :**gradient**\n",
        "      - the slope of the loss function and points in the direction of \n",
        "      fastest change\n",
        "\n",
        "    To get to the minimum in the least amount of time, we then want to \n",
        "    follow the gradient (downwards). You can think of this like \n",
        "    descending a mountain by following the steepest slope to the base.\n",
        "\n",
        "<img src='https://github.com/lbleal1/deep-learning-v2-pytorch/blob/master/intro-to-pytorch/assets/gradient_descent.png?raw=true' width=350px>\n",
        "\n",
        "  ***Remark:***\n",
        "  However, it's more complicated for deeper, multilayer neural networks \n",
        "  like the one we've built. Complicated enough that it took about 30 \n",
        "  years before researchers figured out how to train multilayer networks.\n",
        "\n",
        "  2. **Backpropagation**\n",
        "    - used in training multilayer networks\n",
        "    - actually really just an application of the chain rule from calculus\n",
        "    \n",
        "    :**let's understand it using a two layer network converted into a graph representation**\n",
        "\n",
        "    <img src='https://github.com/lbleal1/deep-learning-v2-pytorch/blob/master/intro-to-pytorch/assets/backprop_diagram.png?raw=true' width=550px>\n",
        "\n",
        "    **Forward Pass**\n",
        "    -  our data and operations go from bottom to top here.\n",
        "    1. We pass the input $x$ through a linear transformation $L_1$ with weights $W_1$ and biases $b_1$.\n",
        "    2. The output then goes through the sigmoid operation $S$ and another linear transformation $L_2$.\n",
        "    3.  Finally we calculate the loss $\\ell$\n",
        "    4. We use the loss as a measure of how bad the network's predictions are. The goal then is to adjust the weights and biases to minimize the loss.\n",
        "\n",
        "    **Backpropagation**\n",
        "    1.  We propagate the gradient of the loss backwards through the network\n",
        "    *Each operation has some gradient between the inputs and outputs.\n",
        "    2.  As we send the gradients backwards, we multiply the incoming gradient with the gradient for the operation.\n",
        "\n",
        "    ***Remark:***\n",
        "    - Mathematically, this is really just calculating the gradient of the loss with respect to the weights using the chain rule.\n",
        "$$\n",
        "\\large \\frac{\\partial \\ell}{\\partial W_1} = \\frac{\\partial L_1}{\\partial W_1} \\frac{\\partial S}{\\partial L_1} \\frac{\\partial L_2}{\\partial S} \\frac{\\partial \\ell}{\\partial L_2}\n",
        "$$\n",
        "    3. We update our weights using this gradient with some learning rate $\\alpha$. \n",
        "\n",
        "$$\n",
        "\\large W^\\prime_1 = W_1 - \\alpha \\frac{\\partial \\ell}{\\partial W_1}\n",
        "$$\n",
        "\n",
        "The learning rate $\\alpha$ is set such that the weight update steps are small enough that the iterative method settles in a minimum.\n"
      ]
    },
    {
      "cell_type": "markdown",
      "metadata": {
        "id": "6Cq4vKxVhe4V",
        "colab_type": "text"
      },
      "source": [
        "# Coding in PyTorch"
      ]
    },
    {
      "cell_type": "markdown",
      "metadata": {
        "id": "yURjwyBnhg6X",
        "colab_type": "text"
      },
      "source": [
        "## Losses\n",
        "\n",
        "***Remark:***\n",
        "- **convention:** we usually see the loss assigned to `criterion`\n",
        "- To actually calculate the loss, you first define the criterion then pass in the output of your network and the correct labels\n",
        "\n",
        "\n"
      ]
    },
    {
      "cell_type": "markdown",
      "metadata": {
        "id": "22NMEZtNluvE",
        "colab_type": "text"
      },
      "source": [
        "### (2) Two Losses"
      ]
    },
    {
      "cell_type": "markdown",
      "metadata": {
        "id": "Lf7Qs6LOlxu1",
        "colab_type": "text"
      },
      "source": [
        "#### 1. `nn.CrossEntropyLoss` \n",
        "  -  used together with softmax function (*recall:* softmax is used to predict class probabilities)\n",
        "  - **important to note**\n",
        "      - Looking at [the documentation for `nn.CrossEntropyLoss`](https://pytorch.org/docs/stable/nn.html#torch.nn.CrossEntropyLoss),\n",
        "\n",
        "        > This criterion combines `nn.LogSoftmax()` and `nn.NLLLoss()` in one single class.\n",
        "        >\n",
        "        > The input is expected to contain scores for each class.\n",
        "      - thus the **requirement for logits**, that is, we need to pass in the raw output of our network into the loss, not the output of the softmax function.\n",
        "\n",
        "          **logits** \n",
        "          - also called *scores*\n",
        "          - raw output of the network\n",
        "      *We use the logits because softmax gives you probabilities which will often be very close to zero or one but floating-point numbers can't accurately represent values near zero or one. \n",
        "\n",
        "    "
      ]
    },
    {
      "cell_type": "code",
      "metadata": {
        "id": "7VfIbLbMl7-q",
        "colab_type": "code",
        "colab": {}
      },
      "source": [
        "import torch\n",
        "from torch import nn\n",
        "import torch.nn.functional as F\n",
        "from torchvision import datasets, transforms\n",
        "\n",
        "# Define a transform to normalize the data\n",
        "transform = transforms.Compose([transforms.ToTensor(),\n",
        "                                transforms.Normalize((0.5,), (0.5,)),\n",
        "                              ])\n",
        "# Download and load the training data\n",
        "trainset = datasets.MNIST('~/.pytorch/MNIST_data/', download=True, train=True, transform=transform)\n",
        "trainloader = torch.utils.data.DataLoader(trainset, batch_size=64, shuffle=True)"
      ],
      "execution_count": 0,
      "outputs": []
    },
    {
      "cell_type": "code",
      "metadata": {
        "id": "061K8j2El8pJ",
        "colab_type": "code",
        "colab": {
          "base_uri": "https://localhost:8080/",
          "height": 34
        },
        "outputId": "320a7eb5-b122-4d55-8a72-bac0062f6adb"
      },
      "source": [
        "# Build a feed-forward network\n",
        "model = nn.Sequential(nn.Linear(784, 128),\n",
        "                      nn.ReLU(),\n",
        "                      nn.Linear(128, 64),\n",
        "                      nn.ReLU(),\n",
        "                      nn.Linear(64, 10))\n",
        "\n",
        "# Define the loss\n",
        "criterion = nn.CrossEntropyLoss()\n",
        "\n",
        "# Get our data\n",
        "images, labels = next(iter(trainloader))\n",
        "# Flatten images\n",
        "images = images.view(images.shape[0], -1)\n",
        "\n",
        "# Forward pass, get our logits\n",
        "logits = model(images)\n",
        "# Calculate the loss with the logits and the labels\n",
        "loss = criterion(logits, labels)\n",
        "\n",
        "print(loss)"
      ],
      "execution_count": 2,
      "outputs": [
        {
          "output_type": "stream",
          "text": [
            "tensor(2.3367, grad_fn=<NllLossBackward>)\n"
          ],
          "name": "stdout"
        }
      ]
    },
    {
      "cell_type": "markdown",
      "metadata": {
        "id": "hVouzB31sD0W",
        "colab_type": "text"
      },
      "source": [
        "***Remark:***\n",
        "\n",
        "It's usually best to avoid doing calculations with probabilities, that's why we typically use log-probabilities in the next loss"
      ]
    },
    {
      "cell_type": "markdown",
      "metadata": {
        "id": "oCQe1dklmCqW",
        "colab_type": "text"
      },
      "source": [
        "2. `nn.NLLLoss`\n",
        "- used with a log-softmax output\n",
        "- in PyTorch that's the output using `nn.LogSoftmax` or `F.log_softmax`\n",
        "  \n",
        "  *If you want to get the actual probabilities, \n",
        "      just take the exponential via `torch.exp(output)`\n",
        "\n",
        "      "
      ]
    },
    {
      "cell_type": "code",
      "metadata": {
        "id": "fJDjSisSspdy",
        "colab_type": "code",
        "colab": {}
      },
      "source": [
        "# Build a feed-forward network\n",
        "model = nn.Sequential(nn.Linear(784, 128),\n",
        "                      nn.ReLU(),\n",
        "                      nn.Linear(128, 64),\n",
        "                      nn.ReLU(),\n",
        "                      nn.Linear(64, 10),\n",
        "                      nn.LogSoftmax(dim=1))\n",
        "\n",
        "# Define the loss\n",
        "criterion = nn.NLLLoss()\n",
        "\n",
        "# Get our data\n",
        "images, labels = next(iter(trainloader))\n",
        "# Flatten images\n",
        "images = images.view(images.shape[0], -1)\n",
        "\n",
        "# Forward pass, get our log-probabilities\n",
        "logps = model(images)\n",
        "# Calculate the loss with the logps and the labels\n",
        "loss = criterion(logps, labels)\n",
        "\n"
      ],
      "execution_count": 0,
      "outputs": []
    },
    {
      "cell_type": "markdown",
      "metadata": {
        "id": "gC7pnoUNzFNq",
        "colab_type": "text"
      },
      "source": [
        "***Remark:***\n",
        "- Now that we know how to calculate a loss, how do we use it to perform backpropagation? we use PyTorch's autograd for that."
      ]
    },
    {
      "cell_type": "markdown",
      "metadata": {
        "id": "OAlYaSzmXn4w",
        "colab_type": "text"
      },
      "source": [
        "## Autograd for Backpropagation\n",
        "\n",
        "`autograd`\n",
        "- used for automatically calculating the gradients of tensors\n",
        "- We can use it to calculate the gradients of all our parameters with respect to the loss. \n",
        "\n",
        "-works by keeping track of operations performed on tensors, then going backwards through those operations, calculating gradients along the way. \n",
        "\n",
        "**(2) Two Ways to turn on and off gradients**\n",
        "\n",
        "**1. via `requires_grad()` and `torch.no_grad()`**\n",
        "\n",
        "*a. Turning On Gradients - `requires_grad()`*\n",
        " - to make sure PyTorch keeps track of operations on a tensor and \n",
        "   calculates the gradients, you need to set `requires_grad = True` on \n",
        "  a tensor. \n",
        " - You can do this at creation with the `requires_grad` keyword, or at any time with `x.requires_grad_(True)`.\n",
        "\n",
        "*b. turning off gradients*\n",
        "  - You can turn off gradients for a block of code with the `torch.no_grad()` content:\n",
        "```python\n",
        "x = torch.zeros(1, requires_grad=True)\n",
        ">>> with torch.no_grad():\n",
        "...     y = x * 2\n",
        ">>> y.requires_grad\n",
        "False\n",
        "```\n",
        "\n",
        "**2. via `torch.set_grad_enabled(True|False)`**\n",
        "\n",
        "\n",
        "\n",
        "`z.backward()`\n",
        "- The gradients are computed with respect to some variable `z` with `z.backward()`\n",
        "- This does a backward pass through the operations that created `z`."
      ]
    },
    {
      "cell_type": "code",
      "metadata": {
        "id": "uCuk6lx4Xn4y",
        "colab_type": "code",
        "outputId": "10e47233-110f-49a9-fc22-92c6daf83132",
        "colab": {
          "base_uri": "https://localhost:8080/",
          "height": 105
        }
      },
      "source": [
        "# Make data\n",
        "\n",
        "x = torch.randn(2,2, requires_grad=True)\n",
        "print(x)\n",
        "\n",
        "y = x**2\n",
        "print(y)\n",
        "\n",
        "## grad_fn shows the function that generated this variable\n",
        "print(y.grad_fn)"
      ],
      "execution_count": 4,
      "outputs": [
        {
          "output_type": "stream",
          "text": [
            "tensor([[ 0.9717,  1.3561],\n",
            "        [-0.1351,  0.2677]], requires_grad=True)\n",
            "tensor([[0.9442, 1.8391],\n",
            "        [0.0183, 0.0717]], grad_fn=<PowBackward0>)\n",
            "<PowBackward0 object at 0x7f92669e65f8>\n"
          ],
          "name": "stdout"
        }
      ]
    },
    {
      "cell_type": "markdown",
      "metadata": {
        "id": "QmXU3MUPXn5D",
        "colab_type": "text"
      },
      "source": [
        "***Remark:**\n",
        "- The autograd module keeps track of these operations and knows how to calculate the gradient for each one. In this way, it's able to calculate the gradients for a chain of operations, with respect to any one tensor. \n",
        "\n",
        "Let's see this idea by reducing the tensor `y` to a scalar value, the mean.\n",
        "\n"
      ]
    },
    {
      "cell_type": "code",
      "metadata": {
        "id": "lm1LYvvsXn5E",
        "colab_type": "code",
        "outputId": "c1e3df8b-ce8b-4cb7-e4aa-4a91f88769c5",
        "colab": {
          "base_uri": "https://localhost:8080/",
          "height": 34
        }
      },
      "source": [
        "z = y.mean()\n",
        "print(z)"
      ],
      "execution_count": 5,
      "outputs": [
        {
          "output_type": "stream",
          "text": [
            "tensor(0.7183, grad_fn=<MeanBackward0>)\n"
          ],
          "name": "stdout"
        }
      ]
    },
    {
      "cell_type": "code",
      "metadata": {
        "id": "TZE_TTRoXn5L",
        "colab_type": "code",
        "outputId": "eda1119c-cfa0-4ba6-f5d8-02127a737250",
        "colab": {
          "base_uri": "https://localhost:8080/",
          "height": 34
        }
      },
      "source": [
        "# You can check the gradients for `x` and `y` but they are empty currently.\n",
        "print(x.grad)"
      ],
      "execution_count": 6,
      "outputs": [
        {
          "output_type": "stream",
          "text": [
            "None\n"
          ],
          "name": "stdout"
        }
      ]
    },
    {
      "cell_type": "markdown",
      "metadata": {
        "id": "MbZFpExhXn5Q",
        "colab_type": "text"
      },
      "source": [
        "To calculate the gradients, you need to run the `.backward` method on a Variable, `z` for example. This will calculate the gradient for `z` with respect to `x`\n",
        "\n",
        "$$\n",
        "\\frac{\\partial z}{\\partial x} = \\frac{\\partial}{\\partial x}\\left[\\frac{1}{n}\\sum_i^n x_i^2\\right] = \\frac{x}{2}\n",
        "$$"
      ]
    },
    {
      "cell_type": "code",
      "metadata": {
        "id": "igYa4ijIXn5R",
        "colab_type": "code",
        "outputId": "18284ca8-e539-49c6-c400-724e5ae7f636",
        "colab": {
          "base_uri": "https://localhost:8080/",
          "height": 87
        }
      },
      "source": [
        "z.backward()\n",
        "print(x.grad)\n",
        "print(x/2)"
      ],
      "execution_count": 7,
      "outputs": [
        {
          "output_type": "stream",
          "text": [
            "tensor([[ 0.4859,  0.6781],\n",
            "        [-0.0676,  0.1339]])\n",
            "tensor([[ 0.4859,  0.6781],\n",
            "        [-0.0676,  0.1339]], grad_fn=<DivBackward0>)\n"
          ],
          "name": "stdout"
        }
      ]
    },
    {
      "cell_type": "markdown",
      "metadata": {
        "id": "27nOdn5fXn5X",
        "colab_type": "text"
      },
      "source": [
        "***Remark:***\n",
        "- These gradients calculations are particularly useful for neural networks.\n",
        "  - For training we need the gradients of the weights with respect to the cost. \n",
        "\n",
        "***Overall***\n",
        "- With PyTorch, we run data forward through the network to calculate the loss, then, go backwards to calculate the gradients with respect to the loss. Once we have the gradients we can make a gradient descent step. "
      ]
    },
    {
      "cell_type": "markdown",
      "metadata": {
        "id": "wmOa_yWNXn5Y",
        "colab_type": "text"
      },
      "source": [
        "## Loss and Autograd together\n",
        "\n",
        "- When we create a network with PyTorch, all of the parameters are initialized with `requires_grad = True`. \n",
        "  - This means that when we calculate the loss and call `loss.backward()`, the gradients for the parameters are calculated. \n",
        "  *These gradients are used to update the weights with gradient descent. \n",
        "  \n",
        "Below you can see an example of calculating the gradients using a backwards pass."
      ]
    },
    {
      "cell_type": "code",
      "metadata": {
        "id": "ZLtXNtmtXn5a",
        "colab_type": "code",
        "colab": {}
      },
      "source": [
        "# Build a feed-forward network\n",
        "model = nn.Sequential(nn.Linear(784, 128),\n",
        "                      nn.ReLU(),\n",
        "                      nn.Linear(128, 64),\n",
        "                      nn.ReLU(),\n",
        "                      nn.Linear(64, 10),\n",
        "                      nn.LogSoftmax(dim=1))\n",
        "\n",
        "criterion = nn.NLLLoss()\n",
        "images, labels = next(iter(trainloader))\n",
        "images = images.view(images.shape[0], -1)\n",
        "\n",
        "logps = model(images)\n",
        "loss = criterion(logps, labels)"
      ],
      "execution_count": 0,
      "outputs": []
    },
    {
      "cell_type": "code",
      "metadata": {
        "id": "HqQSb1FiXn5e",
        "colab_type": "code",
        "outputId": "e5893bf3-4ff8-4e3b-907e-dca9ffdec913",
        "colab": {
          "base_uri": "https://localhost:8080/",
          "height": 301
        }
      },
      "source": [
        "print('Before backward pass: \\n', model[0].weight.grad)\n",
        "\n",
        "loss.backward()\n",
        "\n",
        "print('After backward pass: \\n', model[0].weight.grad)"
      ],
      "execution_count": 9,
      "outputs": [
        {
          "output_type": "stream",
          "text": [
            "Before backward pass: \n",
            " None\n",
            "After backward pass: \n",
            " tensor([[-9.2021e-05, -9.2021e-05, -9.2021e-05,  ..., -9.2021e-05,\n",
            "         -9.2021e-05, -9.2021e-05],\n",
            "        [-1.2114e-03, -1.2114e-03, -1.2114e-03,  ..., -1.2114e-03,\n",
            "         -1.2114e-03, -1.2114e-03],\n",
            "        [ 1.2627e-03,  1.2627e-03,  1.2627e-03,  ...,  1.2627e-03,\n",
            "          1.2627e-03,  1.2627e-03],\n",
            "        ...,\n",
            "        [ 3.1334e-03,  3.1334e-03,  3.1334e-03,  ...,  3.1334e-03,\n",
            "          3.1334e-03,  3.1334e-03],\n",
            "        [ 4.5289e-04,  4.5289e-04,  4.5289e-04,  ...,  4.5289e-04,\n",
            "          4.5289e-04,  4.5289e-04],\n",
            "        [-2.0435e-03, -2.0435e-03, -2.0435e-03,  ..., -2.0435e-03,\n",
            "         -2.0435e-03, -2.0435e-03]])\n"
          ],
          "name": "stdout"
        }
      ]
    },
    {
      "cell_type": "markdown",
      "metadata": {
        "id": "AdDqCgYsXn5j",
        "colab_type": "text"
      },
      "source": [
        "## Optimizer\n",
        "\n",
        "**optimizer**\n",
        "- used to update the weights with the gradients\n",
        "\n",
        "  :**In PyTorch**\n",
        "  -  We get these from PyTorch's [`optim` package](https://pytorch.org/docs/stable/optim.html).\n",
        "  \n",
        "   For example we can use stochastic gradient descent with `optim.SGD`. "
      ]
    },
    {
      "cell_type": "markdown",
      "metadata": {
        "id": "yEoQSC9z4KTU",
        "colab_type": "text"
      },
      "source": [
        "### Defining an Optimizer"
      ]
    },
    {
      "cell_type": "code",
      "metadata": {
        "id": "UsgCj25VXn5l",
        "colab_type": "code",
        "colab": {}
      },
      "source": [
        "from torch import optim\n",
        "\n",
        "# Optimizers require the parameters to optimize and a learning rate\n",
        "optimizer = optim.SGD(model.parameters(), lr=0.01)"
      ],
      "execution_count": 0,
      "outputs": []
    },
    {
      "cell_type": "markdown",
      "metadata": {
        "id": "HTytTKo44l4y",
        "colab_type": "text"
      },
      "source": [
        "# Quick Sum Up\n",
        "\n",
        "Now we know how to use all the individual parts so it's time to see how they work together. Let's consider just one learning step before looping through all the data. The general process with PyTorch:\n",
        "\n",
        "* Make a forward pass through the network \n",
        "* Use the network output to calculate the loss\n",
        "* Perform a backward pass through the network with `loss.backward()` to calculate the gradients\n",
        "* Take a step with the optimizer to update the weights"
      ]
    },
    {
      "cell_type": "markdown",
      "metadata": {
        "id": "yphT5KST4X9l",
        "colab_type": "text"
      },
      "source": [
        "# Going through all steps"
      ]
    },
    {
      "cell_type": "markdown",
      "metadata": {
        "id": "ioePKPmu4r2g",
        "colab_type": "text"
      },
      "source": [
        "## One Learning Step\n",
        "\n",
        "Below I'll go through one training step and print out the weights and gradients so you can see how it changes."
      ]
    },
    {
      "cell_type": "code",
      "metadata": {
        "id": "G3BHQLg7Xn5r",
        "colab_type": "code",
        "outputId": "dd479382-2cd3-4060-8826-2bd058e5d6de",
        "colab": {
          "base_uri": "https://localhost:8080/",
          "height": 321
        }
      },
      "source": [
        "print('Initial weights - ', model[0].weight)\n",
        "\n",
        "images, labels = next(iter(trainloader))\n",
        "images.resize_(64, 784)\n",
        "\n",
        "# Clear the gradients, do this because gradients are accumulated\n",
        "# When you do multiple backwards passes with the same parameters,\n",
        "# the gradients are accumulated. \n",
        "#   This means that you need to zero the gradients \n",
        "#   on each training pass or you'll retain gradients \n",
        "#   from previous training batches.\n",
        "optimizer.zero_grad()\n",
        "\n",
        "# Forward pass, then backward pass, then update weights\n",
        "output = model(images)\n",
        "loss = criterion(output, labels)\n",
        "loss.backward()\n",
        "print('Gradient -', model[0].weight.grad)"
      ],
      "execution_count": 11,
      "outputs": [
        {
          "output_type": "stream",
          "text": [
            "Initial weights -  Parameter containing:\n",
            "tensor([[-0.0291,  0.0109, -0.0265,  ..., -0.0184,  0.0193, -0.0245],\n",
            "        [ 0.0114, -0.0024,  0.0065,  ...,  0.0165,  0.0199, -0.0042],\n",
            "        [ 0.0166, -0.0240,  0.0055,  ...,  0.0243, -0.0064, -0.0009],\n",
            "        ...,\n",
            "        [-0.0191,  0.0280,  0.0040,  ...,  0.0184, -0.0340, -0.0246],\n",
            "        [-0.0074,  0.0074, -0.0145,  ..., -0.0289,  0.0290, -0.0225],\n",
            "        [-0.0352, -0.0027,  0.0258,  ...,  0.0221,  0.0111,  0.0179]],\n",
            "       requires_grad=True)\n",
            "Gradient - tensor([[-0.0028, -0.0028, -0.0028,  ..., -0.0028, -0.0028, -0.0028],\n",
            "        [ 0.0005,  0.0005,  0.0005,  ...,  0.0005,  0.0005,  0.0005],\n",
            "        [ 0.0003,  0.0003,  0.0003,  ...,  0.0003,  0.0003,  0.0003],\n",
            "        ...,\n",
            "        [-0.0011, -0.0011, -0.0011,  ..., -0.0011, -0.0011, -0.0011],\n",
            "        [ 0.0003,  0.0003,  0.0003,  ...,  0.0003,  0.0003,  0.0003],\n",
            "        [ 0.0024,  0.0024,  0.0024,  ...,  0.0024,  0.0024,  0.0024]])\n"
          ],
          "name": "stdout"
        }
      ]
    },
    {
      "cell_type": "code",
      "metadata": {
        "id": "mm4YbJGTXn5w",
        "colab_type": "code",
        "outputId": "e9fc5674-9929-4e8d-9121-91e445b8b417",
        "colab": {
          "base_uri": "https://localhost:8080/",
          "height": 196
        }
      },
      "source": [
        "# Take an update step and few the new weights\n",
        "optimizer.step()\n",
        "print('Updated weights - ', model[0].weight)"
      ],
      "execution_count": 12,
      "outputs": [
        {
          "output_type": "stream",
          "text": [
            "Updated weights -  Parameter containing:\n",
            "tensor([[-0.0290,  0.0109, -0.0265,  ..., -0.0183,  0.0193, -0.0245],\n",
            "        [ 0.0114, -0.0024,  0.0065,  ...,  0.0165,  0.0199, -0.0042],\n",
            "        [ 0.0166, -0.0240,  0.0055,  ...,  0.0243, -0.0064, -0.0009],\n",
            "        ...,\n",
            "        [-0.0191,  0.0280,  0.0040,  ...,  0.0184, -0.0340, -0.0246],\n",
            "        [-0.0074,  0.0074, -0.0145,  ..., -0.0289,  0.0290, -0.0225],\n",
            "        [-0.0353, -0.0027,  0.0258,  ...,  0.0221,  0.0111,  0.0179]],\n",
            "       requires_grad=True)\n"
          ],
          "name": "stdout"
        }
      ]
    },
    {
      "cell_type": "markdown",
      "metadata": {
        "id": "-LH_FFiw5L1T",
        "colab_type": "text"
      },
      "source": [
        "## 2. Looping through all images"
      ]
    },
    {
      "cell_type": "markdown",
      "metadata": {
        "id": "00DwpP_7Xn51",
        "colab_type": "text"
      },
      "source": [
        "**epoch**\n",
        "- passing once through the entire dataset (in some nomenclature)\n",
        "\n",
        "What we'll do below is:\n",
        "- we're going to loop through `trainloader` to get our training batches.\n",
        "-  For each batch, we'll doing a training pass where we calculate the loss, do a backwards pass, and update the weights.\n",
        "**you should see the training loss drop with each epoch."
      ]
    },
    {
      "cell_type": "code",
      "metadata": {
        "id": "eecBkS28Xn53",
        "colab_type": "code",
        "outputId": "386a0b70-c7cb-433f-ceb1-edb35668860f",
        "colab": {
          "base_uri": "https://localhost:8080/",
          "height": 105
        }
      },
      "source": [
        "model = nn.Sequential(nn.Linear(784, 128),\n",
        "                      nn.ReLU(),\n",
        "                      nn.Linear(128, 64),\n",
        "                      nn.ReLU(),\n",
        "                      nn.Linear(64, 10),\n",
        "                      nn.LogSoftmax(dim=1))\n",
        "\n",
        "criterion = nn.NLLLoss()\n",
        "optimizer = optim.SGD(model.parameters(), lr=0.003)\n",
        "\n",
        "epochs = 5\n",
        "for e in range(epochs):\n",
        "    running_loss = 0\n",
        "    for images, labels in trainloader:\n",
        "        # Flatten MNIST images into a 784 long vector\n",
        "        images = images.view(images.shape[0], -1)\n",
        "    \n",
        "        # TODO: Training pass\n",
        "        optimizer.zero_grad()\n",
        "        \n",
        "        output = model(images)\n",
        "        loss = criterion(output, labels)\n",
        "        loss.backward()\n",
        "        optimizer.step()\n",
        "        \n",
        "        running_loss += loss.item()\n",
        "    else:\n",
        "        print(f\"Training loss: {running_loss/len(trainloader)}\")"
      ],
      "execution_count": 13,
      "outputs": [
        {
          "output_type": "stream",
          "text": [
            "Training loss: 1.9591340685704115\n",
            "Training loss: 0.8951495246910083\n",
            "Training loss: 0.5321367342970265\n",
            "Training loss: 0.4342518760832642\n",
            "Training loss: 0.3901739557986575\n"
          ],
          "name": "stdout"
        }
      ]
    },
    {
      "cell_type": "markdown",
      "metadata": {
        "id": "Pr95rLn1Xn58",
        "colab_type": "text"
      },
      "source": [
        "With the network trained, we can check out it's predictions."
      ]
    },
    {
      "cell_type": "code",
      "metadata": {
        "id": "ZNgC2hHL6crw",
        "colab_type": "code",
        "colab": {
          "base_uri": "https://localhost:8080/",
          "height": 232
        },
        "outputId": "1242a05f-940c-455b-b4d7-40610920bc40"
      },
      "source": [
        "!wget https://raw.githubusercontent.com/udacity/deep-learning-v2-pytorch/3bd7dea850e936d8cb44adda8200e4e2b5d627e3/intro-to-pytorch/helper.py"
      ],
      "execution_count": 14,
      "outputs": [
        {
          "output_type": "stream",
          "text": [
            "--2020-01-09 15:28:16--  https://raw.githubusercontent.com/udacity/deep-learning-v2-pytorch/3bd7dea850e936d8cb44adda8200e4e2b5d627e3/intro-to-pytorch/helper.py\n",
            "Resolving raw.githubusercontent.com (raw.githubusercontent.com)... 151.101.0.133, 151.101.64.133, 151.101.128.133, ...\n",
            "Connecting to raw.githubusercontent.com (raw.githubusercontent.com)|151.101.0.133|:443... connected.\n",
            "HTTP request sent, awaiting response... 200 OK\n",
            "Length: 2813 (2.7K) [text/plain]\n",
            "Saving to: ‘helper.py.2’\n",
            "\n",
            "\rhelper.py.2           0%[                    ]       0  --.-KB/s               \rhelper.py.2         100%[===================>]   2.75K  --.-KB/s    in 0s      \n",
            "\n",
            "2020-01-09 15:28:16 (70.2 MB/s) - ‘helper.py.2’ saved [2813/2813]\n",
            "\n"
          ],
          "name": "stdout"
        }
      ]
    },
    {
      "cell_type": "code",
      "metadata": {
        "id": "RNMQ4hWEXn59",
        "colab_type": "code",
        "outputId": "5ee5e858-d394-486c-f33e-0af2a8eb5f07",
        "colab": {
          "base_uri": "https://localhost:8080/",
          "height": 253
        }
      },
      "source": [
        "%matplotlib inline\n",
        "import helper\n",
        "\n",
        "images, labels = next(iter(trainloader))\n",
        "\n",
        "img = images[0].view(1, 784)\n",
        "# Turn off gradients to speed up this part\n",
        "with torch.no_grad():\n",
        "    logps = model(img)\n",
        "\n",
        "# Output of the network are log-probabilities, need to take exponential for probabilities\n",
        "ps = torch.exp(logps)\n",
        "helper.view_classify(img.view(1, 28, 28), ps)"
      ],
      "execution_count": 15,
      "outputs": [
        {
          "output_type": "display_data",
          "data": {
            "image/png": "[encoded data removed]",
            "text/plain": [
              "<Figure size 432x648 with 2 Axes>"
            ]
          },
          "metadata": {
            "tags": []
          }
        }
      ]
    },
    {
      "cell_type": "markdown",
      "metadata": {
        "id": "ItXpCKfIXn6I",
        "colab_type": "text"
      },
      "source": [
        "# Next up\n",
        "ow our network is brilliant. It can accurately predict the digits in our images. Next up you'll write the code for training a neural network on a more complex dataset which is the Fashion-MNIST."
      ]
    }
  ]
}