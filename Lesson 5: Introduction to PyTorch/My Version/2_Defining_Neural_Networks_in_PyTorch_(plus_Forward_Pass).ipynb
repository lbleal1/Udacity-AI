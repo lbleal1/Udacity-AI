{
  "nbformat": 4,
  "nbformat_minor": 0,
  "metadata": {
    "colab": {
      "name": "2 Defining Neural Networks in PyTorch (plus Forward Pass).ipynb",
      "provenance": [],
      "collapsed_sections": []
    },
    "kernelspec": {
      "name": "python3",
      "display_name": "Python 3"
    }
  },
  "cells": [
    {
      "cell_type": "markdown",
      "metadata": {
        "id": "GOnpLCl6KK0B",
        "colab_type": "text"
      },
      "source": [
        "# Previously, \n",
        "\n",
        "we did a binary classification using weight matrices and matrix muliplications.  "
      ]
    },
    {
      "cell_type": "markdown",
      "metadata": {
        "id": "eLQqiX-jLOjF",
        "colab_type": "text"
      },
      "source": [
        "# In this notebook, we will:\n",
        "- learn the preliminaries such as downloading existing datasets, loading data and creating training and test datasets\n",
        "- learn how to work on a multi-class classification problem using MNIST images as our dataset\n",
        "- learn how to solve it using two ways: weight matrices and matrix multiplications, and Pytorch's `nn` module\n",
        "- learn how to build a simple network for solving that problem 'til forward pass "
      ]
    },
    {
      "cell_type": "markdown",
      "metadata": {
        "id": "xI4xDziZMfM9",
        "colab_type": "text"
      },
      "source": [
        "# Preliminaries\n",
        "\n",
        "Here we discuss:\n",
        "- MNIST dataset\n",
        "- how to:\n",
        "  - download existing datasets\n",
        "  - load data\n",
        "  - create training and test datasets"
      ]
    },
    {
      "cell_type": "markdown",
      "metadata": {
        "id": "EEA5IA-MOEoe",
        "colab_type": "text"
      },
      "source": [
        "## MNIST Dataset\n",
        "\n",
        "![mnist img](https://github.com/lbleal1/Udacity-AI/blob/master/assets/mnist.png?raw=true)\n",
        "\n",
        "- consist of greyscale handwritten digits \n",
        "- each image is 28x28 pixels\n"
      ]
    },
    {
      "cell_type": "markdown",
      "metadata": {
        "id": "jAkuL1b4Pjku",
        "colab_type": "text"
      },
      "source": [
        "## Downloading and Loading Data"
      ]
    },
    {
      "cell_type": "code",
      "metadata": {
        "id": "jUbooVnTNo3J",
        "colab_type": "code",
        "colab": {
          "base_uri": "https://localhost:8080/",
          "height": 232
        },
        "outputId": "6fcacb84-6838-41ed-d7ec-34ec6100906b"
      },
      "source": [
        "# Import necessary packages\n",
        "\n",
        "%matplotlib inline\n",
        "%config InlineBackend.figure_format = 'retina'\n",
        "\n",
        "import numpy as np\n",
        "import torch\n",
        "\n",
        "!wget https://raw.githubusercontent.com/udacity/deep-learning-v2-pytorch/3bd7dea850e936d8cb44adda8200e4e2b5d627e3/intro-to-pytorch/helper.py\n",
        "import helper \n",
        "\n",
        "import matplotlib.pyplot as plt"
      ],
      "execution_count": 1,
      "outputs": [
        {
          "output_type": "stream",
          "text": [
            "--2020-01-07 15:20:29--  https://raw.githubusercontent.com/udacity/deep-learning-v2-pytorch/3bd7dea850e936d8cb44adda8200e4e2b5d627e3/intro-to-pytorch/helper.py\n",
            "Resolving raw.githubusercontent.com (raw.githubusercontent.com)... 151.101.0.133, 151.101.64.133, 151.101.128.133, ...\n",
            "Connecting to raw.githubusercontent.com (raw.githubusercontent.com)|151.101.0.133|:443... connected.\n",
            "HTTP request sent, awaiting response... 200 OK\n",
            "Length: 2813 (2.7K) [text/plain]\n",
            "Saving to: ‘helper.py.2’\n",
            "\n",
            "\rhelper.py.2           0%[                    ]       0  --.-KB/s               \rhelper.py.2         100%[===================>]   2.75K  --.-KB/s    in 0s      \n",
            "\n",
            "2020-01-07 15:20:29 (42.6 MB/s) - ‘helper.py.2’ saved [2813/2813]\n",
            "\n"
          ],
          "name": "stdout"
        }
      ]
    },
    {
      "cell_type": "code",
      "metadata": {
        "id": "j_PvH1x6PpMq",
        "colab_type": "code",
        "colab": {}
      },
      "source": [
        "### Run this cell\n",
        "\n",
        "# package for downloading and loading datasets\n",
        "from torchvision import datasets, transforms\n",
        "\n",
        "# Define a transform to normalize the data\n",
        "transform = transforms.Compose([transforms.ToTensor(),\n",
        "                              transforms.Normalize((0.5,), (0.5,)),\n",
        "                              ])\n",
        "\n",
        "# Download training data\n",
        "trainset = datasets.MNIST('~/.pytorch/MNIST_data/', download=True, train=True, transform=transform)\n",
        "\n",
        "# Load training data\n",
        "trainloader = torch.utils.data.DataLoader(trainset, batch_size=64, shuffle=True)\n",
        "# batch_size = 64 \n",
        "# -the number of images we get in one iteration \n",
        "#  from the data loader and pass through our network, \n",
        "#  often called a batch\n",
        "# shuffle = True\n",
        "# - tells it to shuffle the dataset every time we start\n",
        "#   going through the data loader again"
      ],
      "execution_count": 0,
      "outputs": []
    },
    {
      "cell_type": "markdown",
      "metadata": {
        "id": "cDESom-2RAZI",
        "colab_type": "text"
      },
      "source": [
        "Now that's set, let's get those images and labels. There are \n",
        "\n",
        "(2) Two Ways to go through the batches\n",
        "1. for loop                       \n",
        "we usually use this one as we want it to go over all batches in our dataset.\n",
        "```python\n",
        "for image, label in trainloader:\n",
        "    ## do things with images and labels\n",
        "```\n",
        "\n",
        "2. iter()                                                      \n",
        "this one is much convenient when you want to somewhat manually load the batches. The snippet below loads only the first batch. \n",
        "\n",
        "```python\n",
        "dataiter = iter(trainloader)\n",
        "images, labels = dataiter.next()\n",
        "print(type(images))\n",
        "print(images.shape)\n",
        "print(labels.shape)\n",
        "```\n",
        "\n"
      ]
    },
    {
      "cell_type": "code",
      "metadata": {
        "id": "7V6JsnL2SWcW",
        "colab_type": "code",
        "colab": {
          "base_uri": "https://localhost:8080/",
          "height": 70
        },
        "outputId": "79122fa2-ad68-472b-adf9-52acd82dab06"
      },
      "source": [
        "# we will use the iter() for now\n",
        "\n",
        "dataiter = iter(trainloader)\n",
        "images, labels = dataiter.next()\n",
        "print(type(images))\n",
        "print(images.shape)\n",
        "print(labels.shape)"
      ],
      "execution_count": 3,
      "outputs": [
        {
          "output_type": "stream",
          "text": [
            "<class 'torch.Tensor'>\n",
            "torch.Size([64, 1, 28, 28])\n",
            "torch.Size([64])\n"
          ],
          "name": "stdout"
        }
      ]
    },
    {
      "cell_type": "code",
      "metadata": {
        "id": "nZDSN_iGScW1",
        "colab_type": "code",
        "colab": {
          "base_uri": "https://localhost:8080/",
          "height": 264
        },
        "outputId": "b974b1ff-4641-4228-beff-8b5456bd24bd"
      },
      "source": [
        "# looking to one of the images\n",
        "plt.imshow(images[1].numpy().squeeze(), cmap='Greys_r');"
      ],
      "execution_count": 4,
      "outputs": [
        {
          "output_type": "display_data",
          "data": {
            "image/png": "[encoded data removed]",
            "text/plain": [
              "<Figure size 432x288 with 1 Axes>"
            ]
          },
          "metadata": {
            "tags": [],
            "image/png": {
              "width": 251,
              "height": 248
            }
          }
        }
      ]
    },
    {
      "cell_type": "markdown",
      "metadata": {
        "id": "BzxwQD4eU-3N",
        "colab_type": "text"
      },
      "source": [
        "# Building a Simple Network (plus Forward Pass) for Multi-class Classification\n",
        "\n"
      ]
    },
    {
      "cell_type": "markdown",
      "metadata": {
        "id": "kipNBB-HVRYr",
        "colab_type": "text"
      },
      "source": [
        "Before anything else, what we're seeing so far are **fully-connected networks**.\n",
        "\n",
        "**Fully-connected networks (a.k.a dense networks**\n",
        "- Each unit in one layer is connected to each unit in the next layer. \n",
        "- *requirement:* the input to each layer must be a one-dimensional vector (which can be stacked into a 2D tensor as a batch of multiple examples)\n"
      ]
    },
    {
      "cell_type": "markdown",
      "metadata": {
        "id": "7FI5yLdcV1ja",
        "colab_type": "text"
      },
      "source": [
        "## 1. Using Weight Matrices and Matrix Multiplication\n",
        "\n",
        "This is the same as the previous notebook, the differences here are:\n",
        "- we have a different dataset\n",
        "- different activation functions \n",
        "  - sigmoid function for the hidden layer\n",
        "  - softmax function for the output layer\n",
        "    \n",
        "    recalling the formula:\n",
        "\n",
        "  $$\\Large \\sigma(x_i) = \\cfrac{e^{x_i}}{\\sum_k^K{e^{x_k}}}$$\n",
        "\n",
        "    \n",
        "   \n",
        "Also, given the requirement above, we have to do *flattening*.\n",
        "\n",
        "**Flattening**\n",
        "- conversion of two or many dimensional tensors to 1D vectors\n",
        "\n",
        "In our case, since our dataset have a shape of 28x28 that is `(64, 1, 28, 28)` where \n",
        "- 64 is the batch size\n",
        "- 1 is the channel (here only greyscale)\n",
        "- 28,28 is the 28x28\n",
        "\n",
        "we want to turn that 28x28 to a 1D vector which means it will only be 784 that is `(64, 1, 784)`"
      ]
    },
    {
      "cell_type": "code",
      "metadata": {
        "id": "sxOsTh6KW9lJ",
        "colab_type": "code",
        "colab": {
          "base_uri": "https://localhost:8080/",
          "height": 176
        },
        "outputId": "53e6c1e1-60e3-4860-bb09-fca714c6d67d"
      },
      "source": [
        "def activation(x):\n",
        "    return 1/(1+torch.exp(-x))\n",
        "\n",
        "# Flatten the input images\n",
        "# .view is for reshaping\n",
        "# images.shape[0] is the batch size\n",
        "# -1 is for flattening (can be 784; -1 is a shortway of doing it)\n",
        "inputs = images.view(images.shape[0], -1)\n",
        "\n",
        "# Create parameters\n",
        "w1 = torch.randn(784, 256)\n",
        "b1 = torch.randn(256)\n",
        "\n",
        "w2 = torch.randn(256, 10)\n",
        "b2 = torch.randn(10)\n",
        "\n",
        "h = activation(torch.mm(inputs, w1) + b1)\n",
        "\n",
        "out = torch.mm(h, w2) + b2\n",
        "# we now have 10 outputs for our network\n",
        "\n",
        "#We want to pass in an image to our network and get out a probability distribution over the classes that tells us the likely class(es) the image belongs to.\n",
        "def softmax(x):\n",
        "    return torch.exp(x)/torch.sum(torch.exp(x), dim=1).view(-1, 1)\n",
        "# we used dim = 1 takes the sum across the rows \n",
        "# (while dim==0 takes the sum of the columns) \n",
        "\n",
        "probabilities = softmax(out)\n",
        "\n",
        "# Shape should be (64, 10)\n",
        "# 64 images\n",
        "# 10 classes\n",
        "print(probabilities.shape)  \n",
        "\n",
        "# Summation of the probabilities should be 1\n",
        "print(probabilities.sum(dim=1))"
      ],
      "execution_count": 5,
      "outputs": [
        {
          "output_type": "stream",
          "text": [
            "torch.Size([64, 10])\n",
            "tensor([1.0000, 1.0000, 1.0000, 1.0000, 1.0000, 1.0000, 1.0000, 1.0000, 1.0000,\n",
            "        1.0000, 1.0000, 1.0000, 1.0000, 1.0000, 1.0000, 1.0000, 1.0000, 1.0000,\n",
            "        1.0000, 1.0000, 1.0000, 1.0000, 1.0000, 1.0000, 1.0000, 1.0000, 1.0000,\n",
            "        1.0000, 1.0000, 1.0000, 1.0000, 1.0000, 1.0000, 1.0000, 1.0000, 1.0000,\n",
            "        1.0000, 1.0000, 1.0000, 1.0000, 1.0000, 1.0000, 1.0000, 1.0000, 1.0000,\n",
            "        1.0000, 1.0000, 1.0000, 1.0000, 1.0000, 1.0000, 1.0000, 1.0000, 1.0000,\n",
            "        1.0000, 1.0000, 1.0000, 1.0000, 1.0000, 1.0000, 1.0000, 1.0000, 1.0000,\n",
            "        1.0000])\n"
          ],
          "name": "stdout"
        }
      ]
    },
    {
      "cell_type": "markdown",
      "metadata": {
        "id": "pvxtvb1qbM6Y",
        "colab_type": "text"
      },
      "source": [
        "The `out` shall look like ![Softmax Function](https://github.com/lbleal1/deep-learning-v2-pytorch/blob/master/intro-to-pytorch/assets/image_distribution.png?raw=1')\n",
        "\n",
        "since we have an untrained network which means it hasn't seen any data yet so it just returns a uniform distribution with equal probabilities for each class.\n"
      ]
    },
    {
      "cell_type": "markdown",
      "metadata": {
        "id": "RrM4vqlOcobQ",
        "colab_type": "text"
      },
      "source": [
        "## 2. Using the `nn` PyTorch module"
      ]
    },
    {
      "cell_type": "markdown",
      "metadata": {
        "id": "t9XOsftIfNYY",
        "colab_type": "text"
      },
      "source": [
        "### Python `nn` module \n",
        "\n",
        "- makes building networks much simpler\n",
        "- we can do what we did in #1 using this one"
      ]
    },
    {
      "cell_type": "code",
      "metadata": {
        "id": "tjGbT0fOfuvC",
        "colab_type": "code",
        "colab": {}
      },
      "source": [
        "from torch import nn"
      ],
      "execution_count": 0,
      "outputs": []
    },
    {
      "cell_type": "markdown",
      "metadata": {
        "id": "p3HxvDXXfbpo",
        "colab_type": "text"
      },
      "source": [
        "### (2) Two Ways to Use Build Neural Nets using the `nn` module\n",
        "\n"
      ]
    },
    {
      "cell_type": "markdown",
      "metadata": {
        "id": "niPCK1zpfoX1",
        "colab_type": "text"
      },
      "source": [
        "#### 1. Without using `nn.Sequential`"
      ]
    },
    {
      "cell_type": "markdown",
      "metadata": {
        "id": "cG4Z7zc7h6_u",
        "colab_type": "text"
      },
      "source": [
        "##### Defining Neural Nets"
      ]
    },
    {
      "cell_type": "code",
      "metadata": {
        "id": "4_2rpa3YfyRE",
        "colab_type": "code",
        "colab": {}
      },
      "source": [
        "#inheriting from nn.Module\n",
        "# * The name of the class itself can be anything.\n",
        "class Network(nn.Module):\n",
        "  #together with the nn.Module\n",
        "  # creates a class that tracks the architecture and \n",
        "  # provides a lot of useful methods and attributes. \n",
        "  # * It is mandatory to inherit from nn.Module when \n",
        "  #   you're creating a class for your network.\n",
        "    def __init__(self):\n",
        "        super().__init__()\n",
        "\n",
        "        \n",
        "        # Inputs to hidden layer linear transformation\n",
        "        \n",
        "        # - creates a module for a linear transformation,  \n",
        "        #   xW+b , with 784 inputs and 256 outputs and \n",
        "        #   assigns it to self.hidden.\n",
        "        # - module automatically creates the weight \n",
        "        #   and bias tensors which we'll use in the forward method.\n",
        "        # * access the weight and bias tensors once the network (net) \n",
        "        #   is created with net.hidden.weight and net.hidden.bias.\n",
        "        self.hidden = nn.Linear(784, 256)\n",
        "        \n",
        "        # Output layer, 10 units - one for each digit\n",
        "        # this creates another linear transformation with 256 inputs and 10 outputs.\n",
        "        self.output = nn.Linear(256, 10)\n",
        "        \n",
        "        # Define sigmoid activation and softmax output \n",
        "        self.sigmoid = nn.Sigmoid()\n",
        "        self.softmax = nn.Softmax(dim=1)\n",
        "        # nn.Softmax(dim=1) calculates softmax across the columns\n",
        "\n",
        "\n",
        "    def forward(self, x):\n",
        "        # Pass the input tensor through each of our operations\n",
        "        x = self.hidden(x)\n",
        "        x = self.sigmoid(x)\n",
        "        x = self.output(x)\n",
        "        x = self.softmax(x)\n",
        "        \n",
        "        return x"
      ],
      "execution_count": 0,
      "outputs": []
    },
    {
      "cell_type": "code",
      "metadata": {
        "id": "lXXdXhpagmjk",
        "colab_type": "code",
        "colab": {
          "base_uri": "https://localhost:8080/",
          "height": 123
        },
        "outputId": "d1f408aa-1123-4d8a-d0cd-934db47ad199"
      },
      "source": [
        "# Create the network and look at it's text representation\n",
        "model = Network()\n",
        "model"
      ],
      "execution_count": 8,
      "outputs": [
        {
          "output_type": "execute_result",
          "data": {
            "text/plain": [
              "Network(\n",
              "  (hidden): Linear(in_features=784, out_features=256, bias=True)\n",
              "  (output): Linear(in_features=256, out_features=10, bias=True)\n",
              "  (sigmoid): Sigmoid()\n",
              "  (softmax): Softmax(dim=1)\n",
              ")"
            ]
          },
          "metadata": {
            "tags": []
          },
          "execution_count": 8
        }
      ]
    },
    {
      "cell_type": "markdown",
      "metadata": {
        "id": "7AYK_NfYgs6o",
        "colab_type": "text"
      },
      "source": [
        "***A More Concise Way of Defining Networks***\n",
        "\n",
        "- here we use the using the `torch.nn.functional` module\n",
        "- this is the most common way you'll see networks defined as many operations are simple element-wise functions.\n",
        "- convention: we normally import this module as `F`, `import torch.nn.functional as F`."
      ]
    },
    {
      "cell_type": "code",
      "metadata": {
        "id": "cuI49UjehURD",
        "colab_type": "code",
        "colab": {}
      },
      "source": [
        "import torch.nn.functional as F\n",
        "\n",
        "class Network(nn.Module):\n",
        "    def __init__(self):\n",
        "        super().__init__()\n",
        "        # Inputs to hidden layer linear transformation\n",
        "        self.hidden = nn.Linear(784, 256)\n",
        "        # Output layer, 10 units - one for each digit\n",
        "        self.output = nn.Linear(256, 10)\n",
        "        \n",
        "    def forward(self, x):\n",
        "        # Hidden layer with sigmoid activation\n",
        "        x = F.sigmoid(self.hidden(x))\n",
        "        # Output layer with softmax activation\n",
        "        x = F.softmax(self.output(x), dim=1)\n",
        "        \n",
        "        return x"
      ],
      "execution_count": 0,
      "outputs": []
    },
    {
      "cell_type": "markdown",
      "metadata": {
        "id": "iEt-Lbs8hWnE",
        "colab_type": "text"
      },
      "source": [
        "**ASIDE: Activation Functions**\n",
        "\n",
        "So far we've only been looking at the sigmoid activation function, but in general any function can be used as an activation function. The only requirement is that for a network to approximate a non-linear function, the activation functions must be non-linear. Here are a few more examples of common activation functions: Tanh (hyperbolic tangent), and ReLU (rectified linear unit).\n",
        "\n",
        "In practice, the ReLU function is used almost exclusively as the activation function for hidden layers.\n",
        "\n",
        "The example is as below:"
      ]
    },
    {
      "cell_type": "code",
      "metadata": {
        "id": "dZgoWbG-hqWt",
        "colab_type": "code",
        "colab": {
          "base_uri": "https://localhost:8080/",
          "height": 105
        },
        "outputId": "e4a58b2f-e4fa-4dc4-c4db-4bd7f7d1a920"
      },
      "source": [
        "class Network(nn.Module):\n",
        "    def __init__(self):\n",
        "        super().__init__()\n",
        "        # Defining the layers, 128, 64, 10 units each\n",
        "        self.fc1 = nn.Linear(784, 128)\n",
        "        self.fc2 = nn.Linear(128, 64)\n",
        "        # Output layer, 10 units - one for each digit\n",
        "        self.fc3 = nn.Linear(64, 10)\n",
        "        \n",
        "    def forward(self, x):\n",
        "        ''' Forward pass through the network, returns the output logits '''\n",
        "        \n",
        "        x = self.fc1(x)\n",
        "        x = F.relu(x)\n",
        "        x = self.fc2(x)\n",
        "        x = F.relu(x)\n",
        "        x = self.fc3(x)\n",
        "        x = F.softmax(x, dim=1)\n",
        "        \n",
        "        return x\n",
        "\n",
        "model = Network()\n",
        "model"
      ],
      "execution_count": 10,
      "outputs": [
        {
          "output_type": "execute_result",
          "data": {
            "text/plain": [
              "Network(\n",
              "  (fc1): Linear(in_features=784, out_features=128, bias=True)\n",
              "  (fc2): Linear(in_features=128, out_features=64, bias=True)\n",
              "  (fc3): Linear(in_features=64, out_features=10, bias=True)\n",
              ")"
            ]
          },
          "metadata": {
            "tags": []
          },
          "execution_count": 10
        }
      ]
    },
    {
      "cell_type": "markdown",
      "metadata": {
        "id": "WYRri52LhsfW",
        "colab_type": "text"
      },
      "source": [
        "***Remark:***\n",
        "It's good practice to name your layers by their type of network, for instance 'fc' to represent a fully-connected layer as we did above."
      ]
    },
    {
      "cell_type": "markdown",
      "metadata": {
        "id": "xS0plyK6h_mt",
        "colab_type": "text"
      },
      "source": [
        "**ASIDE: Initializing weights and biases**\n",
        "\n",
        "***Remark:***                                                                  \n",
        "\n",
        "- Weights and such are automatically initialized for you, but it's possible to customize how they are initialized.\n",
        "- The weights and biases are tensors attached to the layer you defined, you can get them with model.fc1.weight for instance.\n",
        "\n",
        "For custom initialization, we want to modify these tensors in place. These are actually autograd *Variables*, so we need to get back the actual tensors with *model.fc1.weight.data*. Once we have the tensors, we can fill them with zeros (for biases) or random normal values.\n",
        "\n",
        "\n"
      ]
    },
    {
      "cell_type": "code",
      "metadata": {
        "id": "CbSti5X1i0Uv",
        "colab_type": "code",
        "colab": {
          "base_uri": "https://localhost:8080/",
          "height": 123
        },
        "outputId": "46ea1d31-47e4-4a85-fc0f-bdef4fa7da83"
      },
      "source": [
        "# Set biases to all zeros\n",
        "model.fc1.bias.data.fill_(0)"
      ],
      "execution_count": 11,
      "outputs": [
        {
          "output_type": "execute_result",
          "data": {
            "text/plain": [
              "tensor([0., 0., 0., 0., 0., 0., 0., 0., 0., 0., 0., 0., 0., 0., 0., 0., 0., 0., 0., 0., 0., 0., 0., 0.,\n",
              "        0., 0., 0., 0., 0., 0., 0., 0., 0., 0., 0., 0., 0., 0., 0., 0., 0., 0., 0., 0., 0., 0., 0., 0.,\n",
              "        0., 0., 0., 0., 0., 0., 0., 0., 0., 0., 0., 0., 0., 0., 0., 0., 0., 0., 0., 0., 0., 0., 0., 0.,\n",
              "        0., 0., 0., 0., 0., 0., 0., 0., 0., 0., 0., 0., 0., 0., 0., 0., 0., 0., 0., 0., 0., 0., 0., 0.,\n",
              "        0., 0., 0., 0., 0., 0., 0., 0., 0., 0., 0., 0., 0., 0., 0., 0., 0., 0., 0., 0., 0., 0., 0., 0.,\n",
              "        0., 0., 0., 0., 0., 0., 0., 0.])"
            ]
          },
          "metadata": {
            "tags": []
          },
          "execution_count": 11
        }
      ]
    },
    {
      "cell_type": "code",
      "metadata": {
        "id": "XexLB6kfi0us",
        "colab_type": "code",
        "colab": {
          "base_uri": "https://localhost:8080/",
          "height": 141
        },
        "outputId": "0d3a3983-2aab-41f3-910a-10cef2b6344f"
      },
      "source": [
        "# sample from random normal with standard dev = 0.01\n",
        "model.fc1.weight.data.normal_(std=0.01)"
      ],
      "execution_count": 12,
      "outputs": [
        {
          "output_type": "execute_result",
          "data": {
            "text/plain": [
              "tensor([[ 0.0166,  0.0172,  0.0186,  ..., -0.0085,  0.0010, -0.0149],\n",
              "        [ 0.0077,  0.0087, -0.0057,  ..., -0.0010,  0.0037,  0.0038],\n",
              "        [ 0.0026, -0.0068,  0.0055,  ...,  0.0122,  0.0153, -0.0086],\n",
              "        ...,\n",
              "        [-0.0102, -0.0090, -0.0179,  ...,  0.0116,  0.0044, -0.0025],\n",
              "        [ 0.0114,  0.0020, -0.0030,  ...,  0.0048, -0.0021,  0.0167],\n",
              "        [-0.0147,  0.0186, -0.0013,  ..., -0.0095, -0.0028, -0.0122]])"
            ]
          },
          "metadata": {
            "tags": []
          },
          "execution_count": 12
        }
      ]
    },
    {
      "cell_type": "markdown",
      "metadata": {
        "id": "u82TBjVFi337",
        "colab_type": "text"
      },
      "source": [
        "##### Forward Pass\n",
        "We try passing an image to our defined neural network."
      ]
    },
    {
      "cell_type": "code",
      "metadata": {
        "id": "YGcWXCa0jA7r",
        "colab_type": "code",
        "colab": {
          "base_uri": "https://localhost:8080/",
          "height": 252
        },
        "outputId": "983aa1a2-5477-4db8-fcad-f09e21fbf27e"
      },
      "source": [
        "# Grab some data \n",
        "dataiter = iter(trainloader)\n",
        "images, labels = dataiter.next()\n",
        "\n",
        "# Resize images into a 1D vector, new shape is (batch size, color channels, image pixels) \n",
        "images.resize_(64, 1, 784)\n",
        "# or images.resize_(images.shape[0], 1, 784) to automatically get batch size\n",
        "\n",
        "# Forward pass through the network\n",
        "img_idx = 0\n",
        "ps = model.forward(images[img_idx,:])\n",
        "\n",
        "img = images[img_idx]\n",
        "helper.view_classify(img.view(1, 28, 28), ps)"
      ],
      "execution_count": 13,
      "outputs": [
        {
          "output_type": "display_data",
          "data": {
            "image/png": "[encoded data removed]",
            "text/plain": [
              "<Figure size 432x648 with 2 Axes>"
            ]
          },
          "metadata": {
            "tags": [],
            "image/png": {
              "width": 424,
              "height": 235
            }
          }
        }
      ]
    },
    {
      "cell_type": "markdown",
      "metadata": {
        "id": "LYTHtm0NjBiK",
        "colab_type": "text"
      },
      "source": [
        "***Remark:***\n",
        "\n",
        "As you can see above, our network has basically no idea what this digit is. It's because we haven't trained it yet, all the weights are random!"
      ]
    },
    {
      "cell_type": "markdown",
      "metadata": {
        "id": "94ppNBXyjMwM",
        "colab_type": "text"
      },
      "source": [
        "#### 2. Using `nn.Sequential`"
      ]
    },
    {
      "cell_type": "markdown",
      "metadata": {
        "id": "p7Qr3JAwjd3Q",
        "colab_type": "text"
      },
      "source": [
        "**`nn.Sequential`**\n",
        "- a convenient way to build networks like this where a tensor is passed sequentially through operations\n"
      ]
    },
    {
      "cell_type": "markdown",
      "metadata": {
        "id": "7YViAya9j22o",
        "colab_type": "text"
      },
      "source": [
        "##### (2) Two Ways to use `nn.Sequential`"
      ]
    },
    {
      "cell_type": "markdown",
      "metadata": {
        "id": "u0rVXRTMj_65",
        "colab_type": "text"
      },
      "source": [
        "###### 1. Without Dictionary\n",
        "\n",
        "\n",
        "\n"
      ]
    },
    {
      "cell_type": "code",
      "metadata": {
        "id": "hHjDMNPfjvlu",
        "colab_type": "code",
        "colab": {
          "base_uri": "https://localhost:8080/",
          "height": 394
        },
        "outputId": "67866aae-253e-44a8-cb53-3a8ecb165a47"
      },
      "source": [
        "# the equivalent network is\n",
        "\n",
        "# Hyperparameters for our network\n",
        "input_size = 784\n",
        "hidden_sizes = [128, 64]\n",
        "output_size = 10\n",
        "\n",
        "# Build a feed-forward network\n",
        "model = nn.Sequential(nn.Linear(input_size, hidden_sizes[0]),\n",
        "                      nn.ReLU(),\n",
        "                      nn.Linear(hidden_sizes[0], hidden_sizes[1]),\n",
        "                      nn.ReLU(),\n",
        "                      nn.Linear(hidden_sizes[1], output_size),\n",
        "                      nn.Softmax(dim=1))\n",
        "print(model)\n",
        "\n",
        "# Forward pass through the network and display output\n",
        "images, labels = next(iter(trainloader))\n",
        "images.resize_(images.shape[0], 1, 784)\n",
        "ps = model.forward(images[0,:])\n",
        "helper.view_classify(images[0].view(1, 28, 28), ps)"
      ],
      "execution_count": 14,
      "outputs": [
        {
          "output_type": "stream",
          "text": [
            "Sequential(\n",
            "  (0): Linear(in_features=784, out_features=128, bias=True)\n",
            "  (1): ReLU()\n",
            "  (2): Linear(in_features=128, out_features=64, bias=True)\n",
            "  (3): ReLU()\n",
            "  (4): Linear(in_features=64, out_features=10, bias=True)\n",
            "  (5): Softmax(dim=1)\n",
            ")\n"
          ],
          "name": "stdout"
        },
        {
          "output_type": "display_data",
          "data": {
            "image/png": "[encoded data removed]",
            "text/plain": [
              "<Figure size 432x648 with 2 Axes>"
            ]
          },
          "metadata": {
            "tags": [],
            "image/png": {
              "width": 424,
              "height": 235
            }
          }
        }
      ]
    },
    {
      "cell_type": "markdown",
      "metadata": {
        "id": "441Ek3aWkUCn",
        "colab_type": "text"
      },
      "source": [
        "***Remark: On Accessing the Model Operations***\n",
        "- The operations are available by passing in the appropriate index. \n",
        "\n",
        "  For example, if you want to get first Linear operation and look at the weights, you'd use model[0]."
      ]
    },
    {
      "cell_type": "markdown",
      "metadata": {
        "id": "14ivjzWMke9m",
        "colab_type": "text"
      },
      "source": [
        "###### 2. With Dictionary"
      ]
    },
    {
      "cell_type": "code",
      "metadata": {
        "id": "riLnOMNRkmDl",
        "colab_type": "code",
        "colab": {
          "base_uri": "https://localhost:8080/",
          "height": 158
        },
        "outputId": "6a2d7752-83bf-4c5d-ef13-d54b3161487f"
      },
      "source": [
        "from collections import OrderedDict\n",
        "model = nn.Sequential(OrderedDict([\n",
        "                      ('fc1', nn.Linear(input_size, hidden_sizes[0])),\n",
        "                      ('relu1', nn.ReLU()),\n",
        "                      ('fc2', nn.Linear(hidden_sizes[0], hidden_sizes[1])),\n",
        "                      ('relu2', nn.ReLU()),\n",
        "                      ('output', nn.Linear(hidden_sizes[1], output_size)),\n",
        "                      ('softmax', nn.Softmax(dim=1))]))\n",
        "model"
      ],
      "execution_count": 15,
      "outputs": [
        {
          "output_type": "execute_result",
          "data": {
            "text/plain": [
              "Sequential(\n",
              "  (fc1): Linear(in_features=784, out_features=128, bias=True)\n",
              "  (relu1): ReLU()\n",
              "  (fc2): Linear(in_features=128, out_features=64, bias=True)\n",
              "  (relu2): ReLU()\n",
              "  (output): Linear(in_features=64, out_features=10, bias=True)\n",
              "  (softmax): Softmax(dim=1)\n",
              ")"
            ]
          },
          "metadata": {
            "tags": []
          },
          "execution_count": 15
        }
      ]
    },
    {
      "cell_type": "markdown",
      "metadata": {
        "id": "GJxEvPnmkn9Z",
        "colab_type": "text"
      },
      "source": [
        "***Remark: On Accessing the Model Operations***\n",
        "- instead of using indices **only**, we **can also** use a dictionary to name the individual layers ad operations\n",
        "\n",
        "  *Note:  dictionary keys must be unique, so *each operation must have a different name.*"
      ]
    },
    {
      "cell_type": "code",
      "metadata": {
        "id": "2DSSEybflBFB",
        "colab_type": "code",
        "colab": {
          "base_uri": "https://localhost:8080/",
          "height": 52
        },
        "outputId": "31d63ad1-931d-43ac-889c-1177e869a99f"
      },
      "source": [
        "print(model[0])\n",
        "print(model.fc1)"
      ],
      "execution_count": 16,
      "outputs": [
        {
          "output_type": "stream",
          "text": [
            "Linear(in_features=784, out_features=128, bias=True)\n",
            "Linear(in_features=784, out_features=128, bias=True)\n"
          ],
          "name": "stdout"
        }
      ]
    },
    {
      "cell_type": "markdown",
      "metadata": {
        "id": "M_elg69kl3_D",
        "colab_type": "text"
      },
      "source": [
        "# Next\n",
        "\n",
        "Now that we've learned how to define neural networks, we next learn how to train them in our next notebook!"
      ]
    }
  ]
}