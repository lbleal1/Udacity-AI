{
  "nbformat": 4,
  "nbformat_minor": 0,
  "metadata": {
    "kernelspec": {
      "name": "python3",
      "display_name": "Python 3"
    },
    "language_info": {
      "codemirror_mode": {
        "name": "ipython",
        "version": 3
      },
      "file_extension": ".py",
      "mimetype": "text/x-python",
      "name": "python",
      "nbconvert_exporter": "python",
      "pygments_lexer": "ipython3",
      "version": "3.6.5"
    },
    "colab": {
      "name": "4 Multi-Class Classification via Fashion-MNIST",
      "provenance": []
    },
    "accelerator": "GPU"
  },
  "cells": [
    {
      "cell_type": "markdown",
      "metadata": {
        "id": "cURqQwMFid1g",
        "colab_type": "text"
      },
      "source": [
        "# Previously\n",
        "\n",
        "We learned about defining neural networks, training them and used what we've learned to try on with the MNIST dataset. "
      ]
    },
    {
      "cell_type": "markdown",
      "metadata": {
        "id": "YsJzrx_niucJ",
        "colab_type": "text"
      },
      "source": [
        "# Objectives \n",
        "\n",
        "In this notebook, \n",
        "- we will go through all the processes we've learned so far\n",
        "- we will use a much more complex dataset than the MNIST, which is Fashion-MNIST"
      ]
    },
    {
      "cell_type": "markdown",
      "metadata": {
        "id": "2N-bEklkjVqC",
        "colab_type": "text"
      },
      "source": [
        "# [Fashion-MNIST dataset](https://github.com/zalandoresearch/fashion-mnist)\n",
        "\n",
        "![fashion mnist sprite](https://github.com/lbleal1/deep-learning-v2-pytorch/blob/master/intro-to-pytorch/assets/fashion-mnist-sprite.png?raw=true) \n",
        "\n",
        "**Dataset Description**\n",
        "\n",
        "Fashion-MNIST is a set of 28x28 greyscale images of clothes\n",
        "\n",
        "**Why is it more complex than the MNIST?**\n",
        "- MNIST is actually quite trivial with neural networks where you can easily achieve better than 97% accuracy. \n",
        "- Fashion-MNIST introduces more classes than the 10 classes MNIST have\n",
        "\n",
        "***Remark:***\n",
        "- Since it's more complex than MNIST, so it's a better representation of the actual performance of your network, and a better representation of datasets you'll use in the real world.\n",
        "\n",
        "\n"
      ]
    },
    {
      "cell_type": "markdown",
      "metadata": {
        "id": "3LyakpS_kjfO",
        "colab_type": "text"
      },
      "source": [
        "# Coding in PyTorch"
      ]
    },
    {
      "cell_type": "markdown",
      "metadata": {
        "id": "9fV34LWZkrVp",
        "colab_type": "text"
      },
      "source": [
        "## 1. Download and Loading the Dataset"
      ]
    },
    {
      "cell_type": "code",
      "metadata": {
        "id": "Z-biSH7clp22",
        "colab_type": "code",
        "colab": {
          "base_uri": "https://localhost:8080/",
          "height": 232
        },
        "outputId": "9d63f848-dda4-4591-fc44-7420e59fd243"
      },
      "source": [
        "# folks the helper package always goes in the way as with the previous notebooks\n",
        "# so don't forget this one if you're running in colab\n",
        "\n",
        "!wget https://raw.githubusercontent.com/udacity/deep-learning-v2-pytorch/3bd7dea850e936d8cb44adda8200e4e2b5d627e3/intro-to-pytorch/helper.py\n",
        "\n",
        "# if this doesn't still get through by running, reset your runtime and\n",
        "# it will work\n",
        "\n",
        "# also don't forget to change your Hardware Accelerator above to GPU for faster processing"
      ],
      "execution_count": 1,
      "outputs": [
        {
          "output_type": "stream",
          "text": [
            "--2020-01-10 04:31:36--  https://raw.githubusercontent.com/udacity/deep-learning-v2-pytorch/3bd7dea850e936d8cb44adda8200e4e2b5d627e3/intro-to-pytorch/helper.py\n",
            "Resolving raw.githubusercontent.com (raw.githubusercontent.com)... 151.101.0.133, 151.101.64.133, 151.101.128.133, ...\n",
            "Connecting to raw.githubusercontent.com (raw.githubusercontent.com)|151.101.0.133|:443... connected.\n",
            "HTTP request sent, awaiting response... 200 OK\n",
            "Length: 2813 (2.7K) [text/plain]\n",
            "Saving to: ‘helper.py.3’\n",
            "\n",
            "\rhelper.py.3           0%[                    ]       0  --.-KB/s               \rhelper.py.3         100%[===================>]   2.75K  --.-KB/s    in 0s      \n",
            "\n",
            "2020-01-10 04:31:37 (87.3 MB/s) - ‘helper.py.3’ saved [2813/2813]\n",
            "\n"
          ],
          "name": "stdout"
        }
      ]
    },
    {
      "cell_type": "code",
      "metadata": {
        "id": "GTwp07YxhwfL",
        "colab_type": "code",
        "colab": {}
      },
      "source": [
        "import torch\n",
        "from torchvision import datasets, transforms\n",
        "import helper\n",
        "\n",
        "# Define a transform to normalize the data\n",
        "transform = transforms.Compose([transforms.ToTensor(),\n",
        "                                transforms.Normalize((0.5,), (0.5,))])\n",
        "\n",
        "# Download and load the training data\n",
        "trainset = datasets.FashionMNIST('~/.pytorch/F_MNIST_data/', download=True, train=True, transform=transform)\n",
        "trainloader = torch.utils.data.DataLoader(trainset, batch_size=64, shuffle=True)\n",
        "\n",
        "\n",
        "# Download and load the test data\n",
        "testset = datasets.FashionMNIST('~/.pytorch/F_MNIST_data/', download=True, train=False, transform=transform)\n",
        "testloader = torch.utils.data.DataLoader(testset, batch_size=64, shuffle=True)"
      ],
      "execution_count": 0,
      "outputs": []
    },
    {
      "cell_type": "markdown",
      "metadata": {
        "id": "AQPrEA3PhwfV",
        "colab_type": "text"
      },
      "source": [
        "Here we can see one of the images."
      ]
    },
    {
      "cell_type": "code",
      "metadata": {
        "id": "RpTKHyl9hwfX",
        "colab_type": "code",
        "colab": {
          "base_uri": "https://localhost:8080/",
          "height": 247
        },
        "outputId": "ff13f966-b937-436a-8aed-9c31e3bcfbcc"
      },
      "source": [
        "image, label = next(iter(trainloader))\n",
        "helper.imshow(image[0,:]);"
      ],
      "execution_count": 3,
      "outputs": [
        {
          "output_type": "display_data",
          "data": {
            "image/png": "[encoded data removed]",
            "text/plain": [
              "<Figure size 432x288 with 1 Axes>"
            ]
          },
          "metadata": {
            "tags": []
          }
        }
      ]
    },
    {
      "cell_type": "markdown",
      "metadata": {
        "id": "8z8kVDRnhwfg",
        "colab_type": "text"
      },
      "source": [
        "## 2. Building the network\n",
        "\n",
        "Here we want to define the network having the ff:\n",
        "- include at least one hidden layer\n",
        "- use ReLU activations for the layers and to return the logits or log-softmax from the forward pass\n",
        "- *It's up to you how many layers you add and the size of those *layers*"
      ]
    },
    {
      "cell_type": "code",
      "metadata": {
        "id": "tNERrdwXhwfi",
        "colab_type": "code",
        "colab": {}
      },
      "source": [
        "from torch import nn, optim\n",
        "import torch.nn.functional as F"
      ],
      "execution_count": 0,
      "outputs": []
    },
    {
      "cell_type": "code",
      "metadata": {
        "id": "e_P5iBlgs12_",
        "colab_type": "code",
        "colab": {}
      },
      "source": [
        "model = nn.Sequential(nn.Linear(784, 256),\n",
        "                      nn.ReLU(),\n",
        "                      nn.Linear(256, 128),\n",
        "                      nn.ReLU(),\n",
        "                      nn.Linear(128, 64),\n",
        "                      nn.ReLU(),\n",
        "                      nn.Linear(64,32),\n",
        "                      nn.ReLU(),\n",
        "                      nn.Linear(32, 16),\n",
        "                      nn.ReLU(),\n",
        "                      nn.Linear(16,10),\n",
        "                      nn.LogSoftmax(dim=1))"
      ],
      "execution_count": 0,
      "outputs": []
    },
    {
      "cell_type": "markdown",
      "metadata": {
        "id": "rXGo4Kp6hwft",
        "colab_type": "text"
      },
      "source": [
        "# 3. Train the network\n",
        "\n",
        "We first do our definitions:\n",
        "* Define the criterion\n",
        "  - [for more info](http://pytorch.org/docs/master/nn.html#loss-functions)--(something like `nn.CrossEntropyLoss` or `nn.NLLLoss`)\n",
        "* Define the optimizer\n",
        "  - [the optimizer](http://pytorch.org/docs/master/optim.html) (typically `optim.SGD` or `optim.Adam`)\n",
        "\n",
        "Then do the training processes. Remember the training pass is a fairly straightforward process:\n",
        "* Make a forward pass through the network to get the logits \n",
        "* Use the logits to calculate the loss\n",
        "* Perform a backward pass through the network with `loss.backward()` to calculate the gradients\n",
        "* Take a step with the optimizer to update the weights \n",
        "  \n",
        "By adjusting the hyperparameters (hidden units, learning rate, etc), we should be able to get the training loss below 0.4.\n",
        "\n"
      ]
    },
    {
      "cell_type": "code",
      "metadata": {
        "id": "wmF1Bw2Yhwfv",
        "colab_type": "code",
        "colab": {}
      },
      "source": [
        "# Create the network, define the criterion and optimizer                    \n",
        "criterion = nn.NLLLoss()\n",
        "optimizer = optim.Adam(model.parameters(), lr=0.005) # lr means learning rate"
      ],
      "execution_count": 0,
      "outputs": []
    },
    {
      "cell_type": "code",
      "metadata": {
        "id": "MIxBZsmfhwf0",
        "colab_type": "code",
        "colab": {
          "base_uri": "https://localhost:8080/",
          "height": 105
        },
        "outputId": "0e5168cb-148a-47f9-fe1d-bf52b41770fe"
      },
      "source": [
        "# Train the network here\n",
        "epochs = 5\n",
        "\n",
        "for e in range(epochs):\n",
        "    running_loss = 0\n",
        "    for images, labels in trainloader:\n",
        "        # Do the preliminaries of flattenning the images,\n",
        "        # and assigning the stuff\n",
        "        # Flatten images into a 784 long vector\n",
        "        images = images.view(images.shape[0], -1)\n",
        "        optimizer.zero_grad()\n",
        "        log_ps = model(images)\n",
        "        loss = criterion(log_ps, labels)\n",
        "        \n",
        "        # do your process functions here\n",
        "        loss.backward()\n",
        "        optimizer.step()\n",
        "        \n",
        "        running_loss += loss.item()\n",
        "    else:\n",
        "        print(f\"Training loss: {running_loss/len(trainloader)}\")"
      ],
      "execution_count": 9,
      "outputs": [
        {
          "output_type": "stream",
          "text": [
            "Training loss: 0.4360431312783949\n",
            "Training loss: 0.38476467188169705\n",
            "Training loss: 0.3641685796842011\n",
            "Training loss: 0.3456562873460591\n",
            "Training loss: 0.342942394888096\n"
          ],
          "name": "stdout"
        }
      ]
    },
    {
      "cell_type": "code",
      "metadata": {
        "id": "AFQ-KmT7hwf7",
        "colab_type": "code",
        "colab": {
          "base_uri": "https://localhost:8080/",
          "height": 233
        },
        "outputId": "7fd6a524-97be-482c-c39c-3cef6ef01199"
      },
      "source": [
        "%matplotlib inline\n",
        "%config InlineBackend.figure_format = 'retina'\n",
        "\n",
        "import helper\n",
        "\n",
        "# Test out your network!\n",
        "\n",
        "dataiter = iter(testloader)\n",
        "images, labels = dataiter.next()\n",
        "img = images[1]\n",
        "\n",
        "# You need to flatten again the image \n",
        "# so the size won't incur a mismatch when you \n",
        "# feed it to the model\n",
        "img = img.view(img.shape[0], -1) \n",
        "\n",
        "# Calculate the class probabilities (softmax) for img\n",
        "ps = torch.exp(model(img))\n",
        "\n",
        "# Plot the image and probabilities\n",
        "helper.view_classify(img, ps, version='Fashion')"
      ],
      "execution_count": 10,
      "outputs": [
        {
          "output_type": "display_data",
          "data": {
            "image/png": "[encoded data removed]",
            "text/plain": [
              "<Figure size 432x648 with 2 Axes>"
            ]
          },
          "metadata": {
            "tags": [],
            "image/png": {
              "width": 424,
              "height": 216
            }
          }
        }
      ]
    },
    {
      "cell_type": "markdown",
      "metadata": {
        "id": "oM452pG1sKFL",
        "colab_type": "text"
      },
      "source": [
        "# Next Up\n",
        "\n",
        "Here we kind of derailed from the original solution and created a larger network with following the powers of 2. We also did the efficient way of defining a model .\n",
        "\n",
        "Next, we'll learn about inference and validation since we need to know how our model is performing so far. "
      ]
    }
  ]
}