{
  "nbformat": 4,
  "nbformat_minor": 0,
  "metadata": {
    "kernelspec": {
      "name": "python3",
      "display_name": "Python 3"
    },
    "language_info": {
      "codemirror_mode": {
        "name": "ipython",
        "version": 3
      },
      "file_extension": ".py",
      "mimetype": "text/x-python",
      "name": "python",
      "nbconvert_exporter": "python",
      "pygments_lexer": "ipython3",
      "version": "3.6.6"
    },
    "colab": {
      "name": "5  Validation Pass, Improving Performance and Inference",
      "provenance": []
    },
    "accelerator": "GPU"
  },
  "cells": [
    {
      "cell_type": "markdown",
      "metadata": {
        "id": "8Sf2cmWNCp2o",
        "colab_type": "text"
      },
      "source": [
        "# Previously\n",
        "\n",
        "We practiced the workflow of defining/building neural nets and training them which involved defining the loss and optimizer and doing the backpropagation. We also learned how to get the test and train losses and try it out on one image. Our results are kind of good; however, we also need to quantify the \"good\" in our performance. Also, that's not the end, the results can be better! "
      ]
    },
    {
      "cell_type": "markdown",
      "metadata": {
        "id": "LsWfPG_lDQhu",
        "colab_type": "text"
      },
      "source": [
        "# In this notebook,\n",
        "\n",
        "We will learn about:\n",
        "- the concepts regarding one of the main subprocceses of our workflow-- the Validation Pass\n",
        "- improving our neural network\n",
        "  - we will learn how to solve overfitting via regularization such as dropout\n",
        "  - we will look at the use of the validation set\n",
        "- to complete the whole basic process, we'll learn about Inference\n"
      ]
    },
    {
      "cell_type": "markdown",
      "metadata": {
        "id": "tRWp9iS4FZZy",
        "colab_type": "text"
      },
      "source": [
        "# Conceptual\n",
        "\n",
        "We introduce some new terms here:\n",
        "\n",
        "**1. Inference**\n",
        "- this is done after the training the network\n",
        "- a term borrowed from statistics which actually means making predictions\n",
        "\n",
        "**2. Overfitting**\n",
        "- the problem in which neural networks have a tendency to perform too well on the training data and aren't able to generalize to data that hasn't been seen before.\n",
        "- this impairs the inference performance\n",
        "\n",
        "**3. Validation Set**\n",
        "- data used to test for overfitting while training\n",
        "- these are the data not in the training set\n",
        "\n",
        "\n",
        "**Overall**\n",
        "\n",
        "These terms makes sense by:\n",
        "- We do inferences; however, overfitting lurks. We avoid overfitting through regularization such as dropout while monitoring the validation performance during training."
      ]
    },
    {
      "cell_type": "markdown",
      "metadata": {
        "id": "u7qCN6eTfgtI",
        "colab_type": "text"
      },
      "source": [
        "# Coding in PyTorch"
      ]
    },
    {
      "cell_type": "markdown",
      "metadata": {
        "id": "YH2ujzAGfpU7",
        "colab_type": "text"
      },
      "source": [
        "## Preliminaries\n",
        "\n",
        "Here we do:\n",
        "- Downloading and Loading of Data along with the creation of datasets\n",
        "- Defining/Building Neural Networks"
      ]
    },
    {
      "cell_type": "markdown",
      "metadata": {
        "id": "SRKtXJIyf945",
        "colab_type": "text"
      },
      "source": [
        "### 1. Dowloading and Loading the Dataset"
      ]
    },
    {
      "cell_type": "code",
      "metadata": {
        "id": "PSz6TkghgHSU",
        "colab_type": "code",
        "colab": {
          "base_uri": "https://localhost:8080/",
          "height": 285
        },
        "outputId": "bc491bd0-b89b-4def-9a19-7379a3df07c4"
      },
      "source": [
        "import torch\n",
        "from torchvision import datasets, transforms\n",
        "\n",
        "# Define a transform to normalize the data\n",
        "transform = transforms.Compose([transforms.ToTensor(),\n",
        "                                transforms.Normalize((0.5,), (0.5,))])\n",
        "# Download and load the training data\n",
        "trainset = datasets.FashionMNIST('~/.pytorch/F_MNIST_data/', download=True, train=True, transform=transform)\n",
        "trainloader = torch.utils.data.DataLoader(trainset, batch_size=64, shuffle=True)\n",
        "\n",
        "# Download and load the test data\n",
        "testset = datasets.FashionMNIST('~/.pytorch/F_MNIST_data/', download=True, train=False, transform=transform)\n",
        "testloader = torch.utils.data.DataLoader(testset, batch_size=64, shuffle=True)"
      ],
      "execution_count": 1,
      "outputs": [
        {
          "output_type": "stream",
          "text": [
            "\r0it [00:00, ?it/s]"
          ],
          "name": "stderr"
        },
        {
          "output_type": "stream",
          "text": [
            "Downloading http://fashion-mnist.s3-website.eu-central-1.amazonaws.com/train-images-idx3-ubyte.gz to /root/.pytorch/F_MNIST_data/FashionMNIST/raw/train-images-idx3-ubyte.gz\n"
          ],
          "name": "stdout"
        },
        {
          "output_type": "stream",
          "text": [
            "26427392it [00:04, 5886700.81it/s]                              \n"
          ],
          "name": "stderr"
        },
        {
          "output_type": "stream",
          "text": [
            "Extracting /root/.pytorch/F_MNIST_data/FashionMNIST/raw/train-images-idx3-ubyte.gz to /root/.pytorch/F_MNIST_data/FashionMNIST/raw\n"
          ],
          "name": "stdout"
        },
        {
          "output_type": "stream",
          "text": [
            "\r0it [00:00, ?it/s]"
          ],
          "name": "stderr"
        },
        {
          "output_type": "stream",
          "text": [
            "Downloading http://fashion-mnist.s3-website.eu-central-1.amazonaws.com/train-labels-idx1-ubyte.gz to /root/.pytorch/F_MNIST_data/FashionMNIST/raw/train-labels-idx1-ubyte.gz\n"
          ],
          "name": "stdout"
        },
        {
          "output_type": "stream",
          "text": [
            "32768it [00:00, 38145.07it/s]                           \n",
            "0it [00:00, ?it/s]"
          ],
          "name": "stderr"
        },
        {
          "output_type": "stream",
          "text": [
            "Extracting /root/.pytorch/F_MNIST_data/FashionMNIST/raw/train-labels-idx1-ubyte.gz to /root/.pytorch/F_MNIST_data/FashionMNIST/raw\n",
            "Downloading http://fashion-mnist.s3-website.eu-central-1.amazonaws.com/t10k-images-idx3-ubyte.gz to /root/.pytorch/F_MNIST_data/FashionMNIST/raw/t10k-images-idx3-ubyte.gz\n"
          ],
          "name": "stdout"
        },
        {
          "output_type": "stream",
          "text": [
            "4423680it [00:02, 1680266.19it/s]                            \n",
            "0it [00:00, ?it/s]"
          ],
          "name": "stderr"
        },
        {
          "output_type": "stream",
          "text": [
            "Extracting /root/.pytorch/F_MNIST_data/FashionMNIST/raw/t10k-images-idx3-ubyte.gz to /root/.pytorch/F_MNIST_data/FashionMNIST/raw\n",
            "Downloading http://fashion-mnist.s3-website.eu-central-1.amazonaws.com/t10k-labels-idx1-ubyte.gz to /root/.pytorch/F_MNIST_data/FashionMNIST/raw/t10k-labels-idx1-ubyte.gz\n"
          ],
          "name": "stdout"
        },
        {
          "output_type": "stream",
          "text": [
            "8192it [00:00, 15054.20it/s]            "
          ],
          "name": "stderr"
        },
        {
          "output_type": "stream",
          "text": [
            "Extracting /root/.pytorch/F_MNIST_data/FashionMNIST/raw/t10k-labels-idx1-ubyte.gz to /root/.pytorch/F_MNIST_data/FashionMNIST/raw\n",
            "Processing...\n",
            "Done!\n"
          ],
          "name": "stdout"
        },
        {
          "output_type": "stream",
          "text": [
            "\n"
          ],
          "name": "stderr"
        }
      ]
    },
    {
      "cell_type": "markdown",
      "metadata": {
        "id": "RgPRkRDBgKzC",
        "colab_type": "text"
      },
      "source": [
        "***Remark: the Test Set***\n",
        "- As we can see, the **test set*** was created by setting `train = False` above\n",
        "- The test set contains images just like the training set\n",
        "- Typically you'll see 10-20% of the original dataset held out for testing and validation with the rest being used for training."
      ]
    },
    {
      "cell_type": "markdown",
      "metadata": {
        "id": "60OIuGT5ggTH",
        "colab_type": "text"
      },
      "source": [
        "### 2. Build the Neural Network"
      ]
    },
    {
      "cell_type": "code",
      "metadata": {
        "id": "ypzgDXbjgmiA",
        "colab_type": "code",
        "colab": {}
      },
      "source": [
        "from torch import nn, optim\n",
        "import torch.nn.functional as F\n",
        "\n",
        "class Classifier(nn.Module):\n",
        "    def __init__(self):\n",
        "        super().__init__()\n",
        "        self.fc1 = nn.Linear(784, 256)\n",
        "        self.fc2 = nn.Linear(256, 128)\n",
        "        self.fc3 = nn.Linear(128, 64)\n",
        "        self.fc4 = nn.Linear(64, 10)\n",
        "        \n",
        "    def forward(self, x):\n",
        "        # make sure input tensor is flattened\n",
        "        x = x.view(x.shape[0], -1)\n",
        "        \n",
        "        x = F.relu(self.fc1(x))\n",
        "        x = F.relu(self.fc2(x))\n",
        "        x = F.relu(self.fc3(x))\n",
        "        x = F.log_softmax(self.fc4(x), dim=1)\n",
        "        \n",
        "        return x"
      ],
      "execution_count": 0,
      "outputs": []
    },
    {
      "cell_type": "markdown",
      "metadata": {
        "id": "OeI9S4HDgv8i",
        "colab_type": "text"
      },
      "source": [
        "## Adding Validation Pass\n",
        "\n",
        "This is tied to performance metrics. Reiterating:\n",
        "\n",
        "**validation set**\n",
        "- the goal is to measure the model's performance on data that isn't part of the training set\n",
        "\n",
        "**Performance Metrics**\n",
        "- standards used to tell how the model is performing\n",
        "- examples are accuracy, [precision and recall](https://en.wikipedia.org/wiki/Precision_and_recall#Definition_(classification_context)), and top-5 error rate.\n",
        "\n",
        "\n",
        "***Remark:***\n",
        "- Here we focus on accuracy"
      ]
    },
    {
      "cell_type": "markdown",
      "metadata": {
        "id": "Yd3R6ezEh5dm",
        "colab_type": "text"
      },
      "source": [
        "### 1. One batch and one forward pass\n",
        "- we do only a forward pass with one batch from the test set"
      ]
    },
    {
      "cell_type": "markdown",
      "metadata": {
        "id": "7vGX8EerpbA6",
        "colab_type": "text"
      },
      "source": [
        "#### a. Set Up the Model"
      ]
    },
    {
      "cell_type": "code",
      "metadata": {
        "id": "Tktlm0_PiByb",
        "colab_type": "code",
        "colab": {}
      },
      "source": [
        "# Setting Up the model and images and label\n",
        "\n",
        "model = Classifier()\n",
        "\n",
        "images, labels = next(iter(testloader))\n",
        "# with this we have the true values"
      ],
      "execution_count": 0,
      "outputs": []
    },
    {
      "cell_type": "markdown",
      "metadata": {
        "id": "OmOcmEfkp41W",
        "colab_type": "text"
      },
      "source": [
        "#### b. Calculate Accuracy\n",
        "\n",
        "**accuracy**\n",
        "- (number of correct predictions divided by total number of values considered) * 100%\n",
        "\n",
        "Thus to get accuracy, we want to compare the true labels containing the correct classes with the predicted classes. \n",
        "\n",
        "The steps are as follows:\n"
      ]
    },
    {
      "cell_type": "code",
      "metadata": {
        "id": "N4Q4nG9XqD3t",
        "colab_type": "code",
        "colab": {
          "base_uri": "https://localhost:8080/",
          "height": 34
        },
        "outputId": "7b0dd092-da75-4ed9-fdb0-8d64eae4660e"
      },
      "source": [
        "# 1. Get the class probabilities\n",
        "ps = torch.exp(model(images))\n",
        "# recall: our model returns a log-softmax output\n",
        "# but this time we want the class probabilities\n",
        "# so we call torch.exp to turn it back to that\n",
        "\n",
        "# Make sure the shape is appropriate, we should get 10 class probabilities for 64 examples\n",
        "print(ps.shape)"
      ],
      "execution_count": 4,
      "outputs": [
        {
          "output_type": "stream",
          "text": [
            "torch.Size([64, 10])\n"
          ],
          "name": "stdout"
        }
      ]
    },
    {
      "cell_type": "markdown",
      "metadata": {
        "id": "0X1rIt-sqXUK",
        "colab_type": "text"
      },
      "source": [
        "Since for every image, we have probabilities for each class. \n",
        "We only want the class with highest probability to be the predicted label. \n",
        "\n",
        "Rephrasing that one will be:\n",
        "\n",
        "**predicted label**\n",
        "- the class that has the highest prediction among the other classes \n",
        "\n",
        "So we do:"
      ]
    },
    {
      "cell_type": "code",
      "metadata": {
        "id": "Nx-rSDLmqWV_",
        "colab_type": "code",
        "colab": {
          "base_uri": "https://localhost:8080/",
          "height": 194
        },
        "outputId": "07957466-9edb-48e8-e72a-2e04d5040eaf"
      },
      "source": [
        "# 2. Get the predicted label\n",
        "top_p, top_class = ps.topk(1, dim=1)\n",
        "print(top_class[:10,:])"
      ],
      "execution_count": 5,
      "outputs": [
        {
          "output_type": "stream",
          "text": [
            "tensor([[3],\n",
            "        [3],\n",
            "        [3],\n",
            "        [3],\n",
            "        [3],\n",
            "        [3],\n",
            "        [3],\n",
            "        [3],\n",
            "        [3],\n",
            "        [3]])\n"
          ],
          "name": "stdout"
        }
      ]
    },
    {
      "cell_type": "markdown",
      "metadata": {
        "id": "i-I3OJFjquw7",
        "colab_type": "text"
      },
      "source": [
        "**ps.topk method**\n",
        "- returns the *k* highest values\n",
        "\n",
        "**ps.topk(1)**\n",
        "- returns the most likely class\n",
        "- returns a tuple of the top-k values and the top-k indices\n",
        "  - that is, if the highest value is the fifth element, we'll get 4 as the index\n",
        "\n",
        "  \n"
      ]
    },
    {
      "cell_type": "code",
      "metadata": {
        "id": "Ar2vuES4rsUw",
        "colab_type": "code",
        "colab": {}
      },
      "source": [
        "# 3. Know which predictions are correctly labeled. \n",
        "# that is, 0 for wrong - 1 for right\n",
        "\n",
        "equals = top_class == labels.view(*top_class.shape)\n",
        "# recall: .view is used to change the shape of the tensor\n",
        "# this is because top_class is a 2D tensor (64,1) and\n",
        "# labels is 1D with shape (64)"
      ],
      "execution_count": 0,
      "outputs": []
    },
    {
      "cell_type": "code",
      "metadata": {
        "id": "I2HwwHehszv7",
        "colab_type": "code",
        "colab": {
          "base_uri": "https://localhost:8080/",
          "height": 34
        },
        "outputId": "639f72a2-7397-47f0-8545-0275fe46c736"
      },
      "source": [
        "# 4. Calculate the percentage of predictions\n",
        "\n",
        "accuracy = torch.mean(equals.type(torch.FloatTensor))\n",
        "print(f'Accuracy: {accuracy.item()*100}%')"
      ],
      "execution_count": 7,
      "outputs": [
        {
          "output_type": "stream",
          "text": [
            "Accuracy: 10.9375%\n"
          ],
          "name": "stdout"
        }
      ]
    },
    {
      "cell_type": "markdown",
      "metadata": {
        "id": "iNvbU9jVs67L",
        "colab_type": "text"
      },
      "source": [
        "(copying again here)\n",
        "\n",
        "**accuracy**\n",
        "- (number of correct predictions divided by total number of values considered) * 100%\n",
        "\n",
        "in our case, since we use 1 for correct, \n",
        "number of correct predictions = sum of 1s in `equals`\n",
        "total number of values considered is = length of equals\n",
        "\n",
        "However, we converted `equals` to a float tensor since `torch.mean` do not accept byte tensors which is initally the type of our `equal`.\n",
        "\n"
      ]
    },
    {
      "cell_type": "markdown",
      "metadata": {
        "id": "7iY2abmruHRb",
        "colab_type": "text"
      },
      "source": [
        "***Remark:***\n",
        "- Such a low accuracy? That's because our network is untrained. \n",
        "\n",
        "Now let's train our network and include our validation pass so we can measure how well the network is performing on the test set. "
      ]
    },
    {
      "cell_type": "markdown",
      "metadata": {
        "id": "-Taw_qMIvKEN",
        "colab_type": "text"
      },
      "source": [
        "### 2. Entire Dataset - Training the network with Validation pass (30 epochs)"
      ]
    },
    {
      "cell_type": "markdown",
      "metadata": {
        "id": "j7fsJUX72vR5",
        "colab_type": "text"
      },
      "source": [
        "#### The Process"
      ]
    },
    {
      "cell_type": "markdown",
      "metadata": {
        "id": "vPyDKTl80YY2",
        "colab_type": "text"
      },
      "source": [
        "**Bit of Change: Turning off the Gradients**\n",
        "\n",
        " Since we're not updating our parameters in the validation pass, we can speed up the by turning off gradients using torch.no_grad():\n",
        " ```python\n",
        "# turn off gradients\n",
        "with torch.no_grad():\n",
        "    # validation pass here\n",
        "    for images, labels in testloader:\n",
        "        ...\n",
        "```\n",
        "\n",
        "Here's how we do training the network with Validation Pass:\n"
      ]
    },
    {
      "cell_type": "code",
      "metadata": {
        "id": "RgdT4LbpvNoP",
        "colab_type": "code",
        "colab": {}
      },
      "source": [
        "# 1. Define all preliminary variables\n",
        "\n",
        "model = Classifier()\n",
        "criterion = nn.NLLLoss()\n",
        "optimizer = optim.Adam(model.parameters(), lr=0.003)\n",
        "\n",
        "epochs = 30\n",
        "steps = 0\n",
        "\n",
        "train_losses, test_losses = [], []"
      ],
      "execution_count": 0,
      "outputs": []
    },
    {
      "cell_type": "code",
      "metadata": {
        "id": "0HD4UM2Q08zq",
        "colab_type": "code",
        "colab": {
          "base_uri": "https://localhost:8080/",
          "height": 570
        },
        "outputId": "8b207b54-e216-4aef-ad94-f58a88e30015"
      },
      "source": [
        "# 2 Train the Network with Validation Pass\n",
        "\n",
        "for e in range(epochs):\n",
        "    running_loss = 0\n",
        "\n",
        "    # 2a. We do out usual flow\n",
        "    #     - optimizer\n",
        "    #     - loss\n",
        "    #     - backprop\n",
        "    for images, labels in trainloader:\n",
        "        \n",
        "        optimizer.zero_grad()\n",
        "        \n",
        "        log_ps = model(images)\n",
        "        loss = criterion(log_ps, labels)\n",
        "        loss.backward()\n",
        "        optimizer.step()\n",
        "        \n",
        "        running_loss += loss.item()\n",
        "    # now that we've already trained through the entire dataset\n",
        "    # let's test the adjustments made (the weights, etc)\n",
        "\n",
        "    #2b Validation pass \n",
        "    # actually the same as above but\n",
        "    # - we're using the test dataset as the validation dataset\n",
        "    # - we're computing the accuracy per epoch     \n",
        "    else:\n",
        "        test_loss = 0\n",
        "        accuracy = 0\n",
        "      \n",
        "        # Turn off gradients for validation, saves memory and computations\n",
        "        with torch.no_grad():\n",
        "            for images, labels in testloader:\n",
        "                log_ps = model(images)\n",
        "                test_loss += criterion(log_ps, labels)\n",
        "                \n",
        "                # this is what we did above in the One Pass\n",
        "                ps = torch.exp(log_ps)\n",
        "                top_p, top_class = ps.topk(1, dim=1)\n",
        "                equals = top_class == labels.view(*top_class.shape)\n",
        "                accuracy += torch.mean(equals.type(torch.FloatTensor))\n",
        "                \n",
        "        train_losses.append(running_loss/len(trainloader))\n",
        "        test_losses.append(test_loss/len(testloader))\n",
        "\n",
        "        print(\"Epoch: {}/{}.. \".format(e+1, epochs),\n",
        "              \"Training Loss: {:.3f}.. \".format(running_loss/len(trainloader)),\n",
        "              \"Test Loss: {:.3f}.. \".format(test_loss/len(testloader)),\n",
        "              \"Test Accuracy: {:.3f}\".format(accuracy/len(testloader)))"
      ],
      "execution_count": 9,
      "outputs": [
        {
          "output_type": "stream",
          "text": [
            "Epoch: 1/30..  Training Loss: 0.513..  Test Loss: 0.473..  Test Accuracy: 0.832\n",
            "Epoch: 2/30..  Training Loss: 0.392..  Test Loss: 0.440..  Test Accuracy: 0.840\n",
            "Epoch: 3/30..  Training Loss: 0.353..  Test Loss: 0.393..  Test Accuracy: 0.858\n",
            "Epoch: 4/30..  Training Loss: 0.331..  Test Loss: 0.371..  Test Accuracy: 0.868\n",
            "Epoch: 5/30..  Training Loss: 0.317..  Test Loss: 0.378..  Test Accuracy: 0.867\n",
            "Epoch: 6/30..  Training Loss: 0.305..  Test Loss: 0.377..  Test Accuracy: 0.867\n",
            "Epoch: 7/30..  Training Loss: 0.289..  Test Loss: 0.374..  Test Accuracy: 0.871\n",
            "Epoch: 8/30..  Training Loss: 0.281..  Test Loss: 0.367..  Test Accuracy: 0.873\n",
            "Epoch: 9/30..  Training Loss: 0.270..  Test Loss: 0.382..  Test Accuracy: 0.869\n",
            "Epoch: 10/30..  Training Loss: 0.262..  Test Loss: 0.357..  Test Accuracy: 0.880\n",
            "Epoch: 11/30..  Training Loss: 0.259..  Test Loss: 0.405..  Test Accuracy: 0.861\n",
            "Epoch: 12/30..  Training Loss: 0.249..  Test Loss: 0.425..  Test Accuracy: 0.862\n",
            "Epoch: 13/30..  Training Loss: 0.245..  Test Loss: 0.386..  Test Accuracy: 0.875\n",
            "Epoch: 14/30..  Training Loss: 0.242..  Test Loss: 0.365..  Test Accuracy: 0.881\n",
            "Epoch: 15/30..  Training Loss: 0.232..  Test Loss: 0.377..  Test Accuracy: 0.881\n",
            "Epoch: 16/30..  Training Loss: 0.230..  Test Loss: 0.383..  Test Accuracy: 0.879\n",
            "Epoch: 17/30..  Training Loss: 0.225..  Test Loss: 0.382..  Test Accuracy: 0.877\n",
            "Epoch: 18/30..  Training Loss: 0.221..  Test Loss: 0.395..  Test Accuracy: 0.880\n",
            "Epoch: 19/30..  Training Loss: 0.218..  Test Loss: 0.365..  Test Accuracy: 0.884\n",
            "Epoch: 20/30..  Training Loss: 0.213..  Test Loss: 0.418..  Test Accuracy: 0.877\n",
            "Epoch: 21/30..  Training Loss: 0.212..  Test Loss: 0.366..  Test Accuracy: 0.885\n",
            "Epoch: 22/30..  Training Loss: 0.202..  Test Loss: 0.414..  Test Accuracy: 0.878\n",
            "Epoch: 23/30..  Training Loss: 0.201..  Test Loss: 0.373..  Test Accuracy: 0.886\n",
            "Epoch: 24/30..  Training Loss: 0.197..  Test Loss: 0.446..  Test Accuracy: 0.875\n",
            "Epoch: 25/30..  Training Loss: 0.195..  Test Loss: 0.404..  Test Accuracy: 0.883\n",
            "Epoch: 26/30..  Training Loss: 0.190..  Test Loss: 0.430..  Test Accuracy: 0.881\n",
            "Epoch: 27/30..  Training Loss: 0.193..  Test Loss: 0.414..  Test Accuracy: 0.884\n",
            "Epoch: 28/30..  Training Loss: 0.184..  Test Loss: 0.464..  Test Accuracy: 0.881\n",
            "Epoch: 29/30..  Training Loss: 0.186..  Test Loss: 0.444..  Test Accuracy: 0.878\n",
            "Epoch: 30/30..  Training Loss: 0.180..  Test Loss: 0.463..  Test Accuracy: 0.870\n"
          ],
          "name": "stdout"
        }
      ]
    },
    {
      "cell_type": "markdown",
      "metadata": {
        "id": "wgOFWaG913-a",
        "colab_type": "text"
      },
      "source": [
        "***Remark:***\n",
        "- Do not be confused here. We named the validation loss as the test loss. Later on, we'll use the three of them. \n",
        "\n",
        "**Spoiler: Difference of validation dataset and test dataset**\n",
        "\n",
        "*you actually know this but restating here\n",
        "\n",
        "**Validation Dataset**\n",
        "- \"test dataset\" (in a sense as it is used to get the accuracy) used while training \n",
        "\n",
        "**Test Dataset**\n",
        "- used after training\n",
        "- most likely used in saved models (As we will learn later)"
      ]
    },
    {
      "cell_type": "markdown",
      "metadata": {
        "id": "lczPSwQw2ziS",
        "colab_type": "text"
      },
      "source": [
        "#### Visualizing"
      ]
    },
    {
      "cell_type": "code",
      "metadata": {
        "id": "d98efyDN2rYe",
        "colab_type": "code",
        "colab": {}
      },
      "source": [
        "%matplotlib inline\n",
        "%config InlineBackend.figure_format = 'retina'\n",
        "\n",
        "import matplotlib.pyplot as plt"
      ],
      "execution_count": 0,
      "outputs": []
    },
    {
      "cell_type": "code",
      "metadata": {
        "id": "AcZOV_Z621ja",
        "colab_type": "code",
        "colab": {
          "base_uri": "https://localhost:8080/",
          "height": 282
        },
        "outputId": "ae09af32-a585-49f4-ab4f-b1719ff62561"
      },
      "source": [
        "plt.plot(train_losses, label='Training loss')\n",
        "plt.plot(test_losses, label='Validation loss')\n",
        "plt.legend(frameon=False)"
      ],
      "execution_count": 11,
      "outputs": [
        {
          "output_type": "execute_result",
          "data": {
            "text/plain": [
              "<matplotlib.legend.Legend at 0x7fcedbe8d048>"
            ]
          },
          "metadata": {
            "tags": []
          },
          "execution_count": 11
        },
        {
          "output_type": "display_data",
          "data": {
            "image/png": "[encoded data removed]",
            "text/plain": [
              "<Figure size 432x288 with 1 Axes>"
            ]
          },
          "metadata": {
            "tags": [],
            "image/png": {
              "width": 380,
              "height": 248
            }
          }
        }
      ]
    },
    {
      "cell_type": "markdown",
      "metadata": {
        "id": "nvOqOTFtGzxw",
        "colab_type": "text"
      },
      "source": [
        "We're having a problem of overfitting here"
      ]
    },
    {
      "cell_type": "markdown",
      "metadata": {
        "id": "K3giF_h63lJp",
        "colab_type": "text"
      },
      "source": [
        "## Improving Performance"
      ]
    },
    {
      "cell_type": "markdown",
      "metadata": {
        "id": "b28Jxw8zHgn9",
        "colab_type": "text"
      },
      "source": [
        "### Conceptual (with little bit of code)"
      ]
    },
    {
      "cell_type": "markdown",
      "metadata": {
        "id": "9Dded6mfGtns",
        "colab_type": "text"
      },
      "source": [
        "#### The Problem of Overfitting\n",
        "\n",
        "![Overfitting](https://github.com/lbleal1/deep-learning-v2-pytorch/blob/master/intro-to-pytorch/assets/overfitting.png?raw=true)\n",
        "\n",
        "**Overfitting**\n",
        "- Decreasing Train loss: when the network learns the training set better and better, resulting in training losses\n",
        "- Increasing Validation loss: means that the network starts having problems generalizing data outside the training set\n"
      ]
    },
    {
      "cell_type": "markdown",
      "metadata": {
        "id": "2ulSBSzCHm8N",
        "colab_type": "text"
      },
      "source": [
        "#### Strategies for Reducing Overfitting\n",
        "\n",
        "\n"
      ]
    },
    {
      "cell_type": "markdown",
      "metadata": {
        "id": "0W0gQgOjIla9",
        "colab_type": "text"
      },
      "source": [
        "##### **1. Early-stopping**\n",
        "- to use the model with the lowest validation loss\n",
        "  - you heard that right. To make sense, in practice, you'd save the model frequently as you're training then later choose the model with the lowest validation loss.\n",
        "- *In this example that can be found around 8-10 training epochs\n",
        "\n"
      ]
    },
    {
      "cell_type": "markdown",
      "metadata": {
        "id": "gAYRBH4tInsw",
        "colab_type": "text"
      },
      "source": [
        "##### **2. Dropout**\n",
        "- this is done outside early-stopping\n",
        "  - means that you can use both of them at the same time\n",
        "- the randomly dropping of input units\n",
        "- this forces the network to share information between weights, increasing it's ability to generalize to new data"
      ]
    },
    {
      "cell_type": "markdown",
      "metadata": {
        "id": "wbUpHLc_IsfG",
        "colab_type": "text"
      },
      "source": [
        "###### Sample Code\n",
        "\n",
        "\n",
        "```python\n",
        "class Classifier(nn.Module):\n",
        "    def __init__(self):\n",
        "        super().__init__()\n",
        "        self.fc1 = nn.Linear(784, 256)\n",
        "        self.fc2 = nn.Linear(256, 128)\n",
        "        self.fc3 = nn.Linear(128, 64)\n",
        "        self.fc4 = nn.Linear(64, 10)\n",
        "        \n",
        "        # Dropout module with 0.2 drop probability\n",
        "        self.dropout = nn.Dropout(p=0.2)\n",
        "        \n",
        "    def forward(self, x):\n",
        "        # make sure input tensor is flattened\n",
        "        x = x.view(x.shape[0], -1)\n",
        "        \n",
        "        # Now with dropout\n",
        "        x = self.dropout(F.relu(self.fc1(x)))\n",
        "        x = self.dropout(F.relu(self.fc2(x)))\n",
        "        x = self.dropout(F.relu(self.fc3(x)))\n",
        "        \n",
        "        # output so no dropout here\n",
        "        x = F.log_softmax(self.fc4(x), dim=1)\n",
        "        \n",
        "        return x\n",
        "```\n"
      ]
    },
    {
      "cell_type": "markdown",
      "metadata": {
        "id": "WON5WU57I41y",
        "colab_type": "text"
      },
      "source": [
        "###### Guidelines in using Dropout\n",
        "There are parts where we want to turn on and off the Dropout.\n",
        "\n",
        "**During Training**\n",
        "- We want **to use** dropout to prevent overfitting\n",
        "- we use `model.train()`\n",
        "\n",
        "**During Validation, Testing and whenever we Make Predictions**\n",
        "- We want to not use dropout since we want to use the entire network\n",
        "- we use `model.eval()`\n",
        "\n",
        "In general, the whole process of the validation loop with Dropout is like:\n",
        "1. Turn OFF the gradient \n",
        "2. Set the model to evaluation mode to not use Dropout\n",
        "3. Calculate the Validation loss and metric\n",
        "4. Set the model back to train mode to use Dropout\n",
        "\n",
        "```python\n",
        "# turn off gradients\n",
        "with torch.no_grad():\n",
        "    \n",
        "    # set model to evaluation mode\n",
        "    model.eval()\n",
        "    \n",
        "    # validation pass here\n",
        "    for images, labels in testloader:\n",
        "        ...\n",
        "\n",
        "# set model back to train mode\n",
        "model.train()\n",
        "```"
      ]
    },
    {
      "cell_type": "markdown",
      "metadata": {
        "id": "N1OMhFhAKVq5",
        "colab_type": "text"
      },
      "source": [
        "### Coding All Previous Processes with Dropout Solution\n",
        "\n",
        "So far our process is: (after Loading the Data and Splitting the dataset)\n",
        "1. Define/Build the Network with Dropout\n",
        "2. Training\n",
        "  - includes loss, optimizers, and backprop + Dropout\n",
        "3. Validation Pass \n",
        "  - includes calculation of accuracy + No Dropout"
      ]
    },
    {
      "cell_type": "code",
      "metadata": {
        "id": "-aSAeebvN5cz",
        "colab_type": "code",
        "colab": {}
      },
      "source": [
        "# 1. Define/Build the Network with Dropout\n",
        "\n",
        "class Classifier(nn.Module):\n",
        "    def __init__(self):\n",
        "        super().__init__()\n",
        "        self.fc1 = nn.Linear(784, 256)\n",
        "        self.fc2 = nn.Linear(256, 128)\n",
        "        self.fc3 = nn.Linear(128, 64)\n",
        "        self.fc4 = nn.Linear(64, 10)\n",
        "\n",
        "        # Dropout module with 0.2 drop probability\n",
        "        self.dropout = nn.Dropout(p=0.2)\n",
        "\n",
        "    def forward(self, x):\n",
        "        # make sure input tensor is flattened\n",
        "        x = x.view(x.shape[0], -1)\n",
        "\n",
        "        # Now with dropout\n",
        "        x = self.dropout(F.relu(self.fc1(x)))\n",
        "        x = self.dropout(F.relu(self.fc2(x)))\n",
        "        x = self.dropout(F.relu(self.fc3(x)))\n",
        "\n",
        "        # output so no dropout here\n",
        "        x = F.log_softmax(self.fc4(x), dim=1)\n",
        "\n",
        "        return x"
      ],
      "execution_count": 0,
      "outputs": []
    },
    {
      "cell_type": "code",
      "metadata": {
        "id": "lQfwxNmtN-rl",
        "colab_type": "code",
        "colab": {
          "base_uri": "https://localhost:8080/",
          "height": 570
        },
        "outputId": "002ad819-924a-4bdf-bc3b-cc1afefba99d"
      },
      "source": [
        "# 2. Training + Dropout\n",
        "model = Classifier()\n",
        "criterion = nn.NLLLoss()\n",
        "optimizer = optim.Adam(model.parameters(), lr=0.003)\n",
        "\n",
        "epochs = 30\n",
        "steps = 0\n",
        "\n",
        "train_losses, test_losses = [], []\n",
        "for e in range(epochs):\n",
        "    running_loss = 0\n",
        "    for images, labels in trainloader:\n",
        "        \n",
        "        optimizer.zero_grad()\n",
        "        \n",
        "        log_ps = model(images)\n",
        "        loss = criterion(log_ps, labels)\n",
        "        loss.backward()\n",
        "        optimizer.step()\n",
        "        \n",
        "        running_loss += loss.item()\n",
        "        \n",
        "    else:\n",
        "        test_loss = 0\n",
        "        accuracy = 0\n",
        "        \n",
        "        # 3. Validation pass + No Dropout\n",
        "        # Turn off gradients for validation, saves memory and computations\n",
        "        with torch.no_grad():\n",
        "            model.eval()\n",
        "            for images, labels in testloader:\n",
        "                log_ps = model(images)\n",
        "                test_loss += criterion(log_ps, labels)\n",
        "                \n",
        "                ps = torch.exp(log_ps)\n",
        "                top_p, top_class = ps.topk(1, dim=1)\n",
        "                equals = top_class == labels.view(*top_class.shape)\n",
        "                accuracy += torch.mean(equals.type(torch.FloatTensor))\n",
        "        \n",
        "        model.train()\n",
        "        \n",
        "        train_losses.append(running_loss/len(trainloader))\n",
        "        test_losses.append(test_loss/len(testloader))\n",
        "\n",
        "        print(\"Epoch: {}/{}.. \".format(e+1, epochs),\n",
        "              \"Training Loss: {:.3f}.. \".format(train_losses[-1]),\n",
        "              \"Test Loss: {:.3f}.. \".format(test_losses[-1]),\n",
        "              \"Test Accuracy: {:.3f}\".format(accuracy/len(testloader)))"
      ],
      "execution_count": 13,
      "outputs": [
        {
          "output_type": "stream",
          "text": [
            "Epoch: 1/30..  Training Loss: 0.609..  Test Loss: 0.493..  Test Accuracy: 0.821\n",
            "Epoch: 2/30..  Training Loss: 0.490..  Test Loss: 0.440..  Test Accuracy: 0.846\n",
            "Epoch: 3/30..  Training Loss: 0.452..  Test Loss: 0.417..  Test Accuracy: 0.847\n",
            "Epoch: 4/30..  Training Loss: 0.432..  Test Loss: 0.415..  Test Accuracy: 0.852\n",
            "Epoch: 5/30..  Training Loss: 0.424..  Test Loss: 0.418..  Test Accuracy: 0.854\n",
            "Epoch: 6/30..  Training Loss: 0.415..  Test Loss: 0.410..  Test Accuracy: 0.857\n",
            "Epoch: 7/30..  Training Loss: 0.407..  Test Loss: 0.395..  Test Accuracy: 0.860\n",
            "Epoch: 8/30..  Training Loss: 0.393..  Test Loss: 0.404..  Test Accuracy: 0.852\n",
            "Epoch: 9/30..  Training Loss: 0.394..  Test Loss: 0.406..  Test Accuracy: 0.866\n",
            "Epoch: 10/30..  Training Loss: 0.386..  Test Loss: 0.406..  Test Accuracy: 0.852\n",
            "Epoch: 11/30..  Training Loss: 0.389..  Test Loss: 0.378..  Test Accuracy: 0.869\n",
            "Epoch: 12/30..  Training Loss: 0.377..  Test Loss: 0.385..  Test Accuracy: 0.867\n",
            "Epoch: 13/30..  Training Loss: 0.379..  Test Loss: 0.379..  Test Accuracy: 0.867\n",
            "Epoch: 14/30..  Training Loss: 0.379..  Test Loss: 0.393..  Test Accuracy: 0.864\n",
            "Epoch: 15/30..  Training Loss: 0.377..  Test Loss: 0.385..  Test Accuracy: 0.869\n",
            "Epoch: 16/30..  Training Loss: 0.368..  Test Loss: 0.409..  Test Accuracy: 0.858\n",
            "Epoch: 17/30..  Training Loss: 0.364..  Test Loss: 0.390..  Test Accuracy: 0.865\n",
            "Epoch: 18/30..  Training Loss: 0.370..  Test Loss: 0.392..  Test Accuracy: 0.863\n",
            "Epoch: 19/30..  Training Loss: 0.364..  Test Loss: 0.386..  Test Accuracy: 0.868\n",
            "Epoch: 20/30..  Training Loss: 0.365..  Test Loss: 0.374..  Test Accuracy: 0.870\n",
            "Epoch: 21/30..  Training Loss: 0.358..  Test Loss: 0.378..  Test Accuracy: 0.874\n",
            "Epoch: 22/30..  Training Loss: 0.354..  Test Loss: 0.393..  Test Accuracy: 0.869\n",
            "Epoch: 23/30..  Training Loss: 0.358..  Test Loss: 0.358..  Test Accuracy: 0.876\n",
            "Epoch: 24/30..  Training Loss: 0.354..  Test Loss: 0.377..  Test Accuracy: 0.868\n",
            "Epoch: 25/30..  Training Loss: 0.352..  Test Loss: 0.379..  Test Accuracy: 0.867\n",
            "Epoch: 26/30..  Training Loss: 0.350..  Test Loss: 0.368..  Test Accuracy: 0.870\n",
            "Epoch: 27/30..  Training Loss: 0.346..  Test Loss: 0.373..  Test Accuracy: 0.872\n",
            "Epoch: 28/30..  Training Loss: 0.342..  Test Loss: 0.360..  Test Accuracy: 0.873\n",
            "Epoch: 29/30..  Training Loss: 0.345..  Test Loss: 0.379..  Test Accuracy: 0.867\n",
            "Epoch: 30/30..  Training Loss: 0.341..  Test Loss: 0.382..  Test Accuracy: 0.874\n"
          ],
          "name": "stdout"
        }
      ]
    },
    {
      "cell_type": "code",
      "metadata": {
        "id": "M8Mb1ZcyOOIu",
        "colab_type": "code",
        "colab": {}
      },
      "source": [
        "%matplotlib inline\n",
        "%config InlineBackend.figure_format = 'retina'\n",
        "\n",
        "import matplotlib.pyplot as plt"
      ],
      "execution_count": 0,
      "outputs": []
    },
    {
      "cell_type": "code",
      "metadata": {
        "id": "jehedYqlOPuO",
        "colab_type": "code",
        "colab": {
          "base_uri": "https://localhost:8080/",
          "height": 282
        },
        "outputId": "c05c5065-0bc4-48cb-bc92-695cda557063"
      },
      "source": [
        "plt.plot(train_losses, label='Training loss')\n",
        "plt.plot(test_losses, label='Validation loss')\n",
        "plt.legend(frameon=False)"
      ],
      "execution_count": 15,
      "outputs": [
        {
          "output_type": "execute_result",
          "data": {
            "text/plain": [
              "<matplotlib.legend.Legend at 0x7fcedbe0bba8>"
            ]
          },
          "metadata": {
            "tags": []
          },
          "execution_count": 15
        },
        {
          "output_type": "display_data",
          "data": {
            "image/png": "[encoded data removed]",
            "text/plain": [
              "<Figure size 432x288 with 1 Axes>"
            ]
          },
          "metadata": {
            "tags": [],
            "image/png": {
              "width": 380,
              "height": 248
            }
          }
        }
      ]
    },
    {
      "cell_type": "markdown",
      "metadata": {
        "id": "6NphKm7FOnze",
        "colab_type": "text"
      },
      "source": [
        "## Inference\n",
        "\n",
        "*recall*\n",
        "\n",
        "**Inference**\n",
        "- this is done after the training the network\n",
        "- a term borrowed from statistics which actually means making predictions \n",
        "- **recall:** \n",
        "  - we use `model.eval()` to turn off Dropout\n",
        "  - we use `torch.no_grad()` to turn off autograd"
      ]
    },
    {
      "cell_type": "code",
      "metadata": {
        "id": "g-Ya_HHZQa5u",
        "colab_type": "code",
        "colab": {
          "base_uri": "https://localhost:8080/",
          "height": 232
        },
        "outputId": "efbdf223-ff64-4833-e274-632ca202e700"
      },
      "source": [
        "# folks the helper package always goes in the way as with the previous notebooks\n",
        "# so don't forget this one if you're running in colab\n",
        "\n",
        "!wget https://raw.githubusercontent.com/udacity/deep-learning-v2-pytorch/3bd7dea850e936d8cb44adda8200e4e2b5d627e3/intro-to-pytorch/helper.py\n",
        "\n",
        "# if this doesn't still get through by running, reset your runtime and\n",
        "# it will work\n",
        "\n",
        "# also don't forget to change your Hardware Accelerator above to GPU for faster processing"
      ],
      "execution_count": 16,
      "outputs": [
        {
          "output_type": "stream",
          "text": [
            "--2020-01-10 16:33:48--  https://raw.githubusercontent.com/udacity/deep-learning-v2-pytorch/3bd7dea850e936d8cb44adda8200e4e2b5d627e3/intro-to-pytorch/helper.py\n",
            "Resolving raw.githubusercontent.com (raw.githubusercontent.com)... 151.101.0.133, 151.101.64.133, 151.101.128.133, ...\n",
            "Connecting to raw.githubusercontent.com (raw.githubusercontent.com)|151.101.0.133|:443... connected.\n",
            "HTTP request sent, awaiting response... 200 OK\n",
            "Length: 2813 (2.7K) [text/plain]\n",
            "Saving to: ‘helper.py’\n",
            "\n",
            "\rhelper.py             0%[                    ]       0  --.-KB/s               \rhelper.py           100%[===================>]   2.75K  --.-KB/s    in 0s      \n",
            "\n",
            "2020-01-10 16:33:49 (106 MB/s) - ‘helper.py’ saved [2813/2813]\n",
            "\n"
          ],
          "name": "stdout"
        }
      ]
    },
    {
      "cell_type": "code",
      "metadata": {
        "id": "7sAXy7tZPh7H",
        "colab_type": "code",
        "colab": {
          "base_uri": "https://localhost:8080/",
          "height": 233
        },
        "outputId": "05beeab1-3bcd-4f91-89d9-5fe45700f876"
      },
      "source": [
        "# Import helper module (should be in the repo)\n",
        "import helper\n",
        "\n",
        "# Test out your network!\n",
        "\n",
        "model.eval()\n",
        "\n",
        "dataiter = iter(testloader)\n",
        "images, labels = dataiter.next()\n",
        "img = images[0]\n",
        "# Convert 2D image to 1D vector\n",
        "img = img.view(1, 784)\n",
        "\n",
        "# Calculate the class probabilities (softmax) for img\n",
        "with torch.no_grad():\n",
        "    output = model.forward(img)\n",
        "\n",
        "ps = torch.exp(output)\n",
        "\n",
        "# Plot the image and probabilities\n",
        "helper.view_classify(img.view(1, 28, 28), ps, version='Fashion')"
      ],
      "execution_count": 17,
      "outputs": [
        {
          "output_type": "display_data",
          "data": {
            "image/png": "[encoded data removed]",
            "text/plain": [
              "<Figure size 432x648 with 2 Axes>"
            ]
          },
          "metadata": {
            "tags": [],
            "image/png": {
              "width": 424,
              "height": 216
            }
          }
        }
      ]
    },
    {
      "cell_type": "markdown",
      "metadata": {
        "id": "8zAaYNHRPlvW",
        "colab_type": "text"
      },
      "source": [
        "# Next Up!\n",
        "\n",
        "Here, we saw the whole basic skeleton of our workflow with additional improvements. \n",
        "\n",
        "In the next part, as we've stated above, we'll need to save the trained models with the lowest validation loss. So we'll learn saving trained models. This can be done after training or after inference. Though, we may wanna load the model we saved for inference."
      ]
    }
  ]
}