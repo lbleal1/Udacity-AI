{
  "nbformat": 4,
  "nbformat_minor": 0,
  "metadata": {
    "kernelspec": {
      "display_name": "Python 3",
      "language": "python",
      "name": "python3"
    },
    "language_info": {
      "codemirror_mode": {
        "name": "ipython",
        "version": 3
      },
      "file_extension": ".py",
      "mimetype": "text/x-python",
      "name": "python",
      "nbconvert_exporter": "python",
      "pygments_lexer": "ipython3",
      "version": "3.6.6"
    },
    "colab": {
      "name": "8 - Transfer Learning",
      "provenance": []
    }
  },
  "cells": [
    {
      "cell_type": "markdown",
      "metadata": {
        "id": "J1fZHfWHmDF_",
        "colab_type": "text"
      },
      "source": [
        "# Previously\n",
        "\n",
        "In the past notebooks, we learned from preliminaries and the alternatives doing it to inference. So far, we're using built networks with 2-3 layers. "
      ]
    },
    {
      "cell_type": "markdown",
      "metadata": {
        "id": "t160OJN0mdws",
        "colab_type": "text"
      },
      "source": [
        "# In this notebook,\n",
        "\n",
        "we'll learn:\n",
        "- how to use the real and pretrained deep neural network models via Transfer Learning\n",
        "- see the changes in our basic skeleton process\n",
        "- to do classification cats and dogs using these models"
      ]
    },
    {
      "cell_type": "markdown",
      "metadata": {
        "id": "bvRU2xaSm0wA",
        "colab_type": "text"
      },
      "source": [
        "# Pre-trained Neural Networks\n",
        "\n",
        "***Remark:***\n",
        "- these networks are pre-trained using ImageNet\n",
        "\n",
        "**ImageNet**\n",
        "- [ImageNet](http://www.image-net.org/) [is available via torchvision](http://pytorch.org/docs/0.3.0/torchvision/models.html)\n",
        "- a massive dataset with over 1 million labeled images in 1000 categories\n",
        "- used to train deep neural networks using an architecture called convolutional layers (Lesson 6 not so far!)\n",
        "\n",
        "**Pre-trained Neural Networks**\n",
        "- trained using ImageNet, these models work astonishingly well as feature detectors for images they weren't trained on\n",
        "- these networks can be downloaded with `torchvision.models`\n",
        "  ***Remark:***\n",
        "    - we will use [DenseNet](http://pytorch.org/docs/0.3.0/torchvision/models.html#id5) in our notebook\n",
        "\n",
        "**Transfer-Learning**\n",
        "- using a pre-trained network on images not in the training set\n",
        "\n"
      ]
    },
    {
      "cell_type": "markdown",
      "metadata": {
        "id": "3DVvFgHLorb6",
        "colab_type": "text"
      },
      "source": [
        "# Preliminaries\n",
        "\n",
        "The changes here are the ff:\n",
        "- the size of the input images to the models\n",
        "  - most of the pretrained models require the input to be 224x224 images\n",
        "- image normalization \n",
        "  - need to match the normalization used when the models were trained\n",
        "  - each color channel was normalized separately\n",
        "    - means: `[0.438, 0.456, 0.406]` \n",
        "    - standard deviation: `[0.229, 0.224, 0.225]`"
      ]
    },
    {
      "cell_type": "code",
      "metadata": {
        "id": "xUgtG9nco7XB",
        "colab_type": "code",
        "colab": {}
      },
      "source": [
        "%matplotlib inline\n",
        "%config InlineBackend.figure_format = 'retina'\n",
        "\n",
        "import matplotlib.pyplot as plt\n",
        "\n",
        "import torch\n",
        "from torch import nn\n",
        "from torch import optim\n",
        "import torch.nn.functional as F\n",
        "from torchvision import datasets, transforms, models"
      ],
      "execution_count": 0,
      "outputs": []
    },
    {
      "cell_type": "code",
      "metadata": {
        "id": "3oII0x3KpZsX",
        "colab_type": "code",
        "colab": {}
      },
      "source": [
        "data_dir = 'Cat_Dog_data'\n",
        "\n",
        "# Define transforms for the training data and testing data\n",
        "train_transforms = transforms.Compose([transforms.RandomRotation(30),\n",
        "                                       transforms.RandomResizedCrop(224),\n",
        "                                       transforms.RandomHorizontalFlip(),\n",
        "                                       transforms.ToTensor(),\n",
        "                                       transforms.Normalize([0.485, 0.456, 0.406],\n",
        "                                                            [0.229, 0.224, 0.225])])\n",
        "\n",
        "test_transforms = transforms.Compose([transforms.Resize(255),\n",
        "                                      transforms.CenterCrop(224),\n",
        "                                      transforms.ToTensor(),\n",
        "                                      transforms.Normalize([0.485, 0.456, 0.406],\n",
        "                                                           [0.229, 0.224, 0.225])])\n",
        "\n",
        "# Pass transforms in here, then run the next cell to see how the transforms look\n",
        "train_data = datasets.ImageFolder(data_dir + '/train', transform=train_transforms)\n",
        "test_data = datasets.ImageFolder(data_dir + '/test', transform=test_transforms)\n",
        "\n",
        "trainloader = torch.utils.data.DataLoader(train_data, batch_size=64, shuffle=True)\n",
        "testloader = torch.utils.data.DataLoader(test_data, batch_size=64)"
      ],
      "execution_count": 0,
      "outputs": []
    },
    {
      "cell_type": "markdown",
      "metadata": {
        "id": "fSFA5osopdT_",
        "colab_type": "text"
      },
      "source": [
        "# *Using Pre-trained Models\n",
        "\n",
        "This part is actually the \"Building/Defining Neural Networks\" stage.\n",
        "Here the changes are:\n",
        "- using a pre-trained network as feature detector\n",
        "- defining our simple feed-forward classifier\n",
        "\n",
        "**(2) Two Parts of the DenseNet Model\n",
        "1. Features Part\n",
        "- a stack of convolutional layers\n",
        "- overall works as a feature detector that can be fed into a classifier\n",
        "- fine not to be replaced. They should work perfectly on their own\n",
        "\n",
        "2. Classifier Part\n",
        "- a single fully-connected layer `(classifier: Linear(in_features=1024, out_features=1000)`\n",
        "\n",
        "  ***Remark:***\n",
        "  - this layer was trained on the ImageNet dataset, so it won't work for our specific problem\n",
        "- we need to replace this part\n",
        "\n",
        "***Remark:***\n",
        "- In general, pre-trained networks are amazingly good feature detectors that can be used as the input for simple feed-forward classifiers.\n"
      ]
    },
    {
      "cell_type": "code",
      "metadata": {
        "id": "JDEEth27tpBt",
        "colab_type": "code",
        "colab": {}
      },
      "source": [
        "# Loading the DenseNet model\n",
        "model = models.densenet121(pretrained=True)\n",
        "model # printing out the architecture"
      ],
      "execution_count": 0,
      "outputs": []
    },
    {
      "cell_type": "code",
      "metadata": {
        "id": "OvT6aF_Yu-X5",
        "colab_type": "code",
        "colab": {}
      },
      "source": [
        "# Freeze parameters so we don't backprop through them\n",
        "for param in model.parameters():\n",
        "    param.requires_grad = False\n",
        "\n",
        "from collections import OrderedDict\n",
        "classifier = nn.Sequential(OrderedDict([\n",
        "                          ('fc1', nn.Linear(1024, 500)),\n",
        "                          ('relu', nn.ReLU()),\n",
        "                          ('fc2', nn.Linear(500, 2)),\n",
        "                          ('output', nn.LogSoftmax(dim=1))\n",
        "                          ]))\n",
        "    \n",
        "model.classifier = classifier"
      ],
      "execution_count": 0,
      "outputs": []
    },
    {
      "cell_type": "markdown",
      "metadata": {
        "id": "yR6MdilhvMoc",
        "colab_type": "text"
      },
      "source": [
        "# Training the Neural Network"
      ]
    },
    {
      "cell_type": "markdown",
      "metadata": {
        "id": "rrTMBG_kvRoK",
        "colab_type": "text"
      },
      "source": [
        "## PyTorch and Processing Time\n",
        "\n",
        "Given that we're using a **really deep** neural network\n",
        "\n",
        "**Training using CPUs**\n",
        "- this will take a long, long time\n",
        "\n",
        "**Training on GPUs**\n",
        "- linear algebra computations are done in parallel leading to 100x increased training speeds\n",
        "- also possible to train on multiple GPUs, further decreasing training time\n",
        "\n",
        "**PyTorch and GPUs**\n",
        "- PyTorch uses [CUDA](https://developer.nvidia.com/cuda-zone) to efficiently compute the forward and backwards passes on the GPU\n",
        "- In PyTorch, you move your model parameters and other tensors to the GPU memory using `model.to('cuda')`. (You can move them back from the GPU with `model.to('cpu')`)\n",
        "- You can write device agnostic code which will automatically use CUDA if it's enabled like so:\n",
        "\n",
        "```python\n",
        "# at beginning of the script\n",
        "device = torch.device(\"cuda:0\" if torch.cuda.is_available() else \"cpu\")\n",
        "\n",
        "...\n",
        "\n",
        "# then whenever you get a new Tensor or Module\n",
        "# this won't copy if they are already on the desired device\n",
        "input = data.to(device)\n",
        "model = MyModule(...).to(device)\n",
        "```\n",
        "\n"
      ]
    },
    {
      "cell_type": "markdown",
      "metadata": {
        "id": "HlsYrNhMxM9g",
        "colab_type": "text"
      },
      "source": [
        "### Comparing CPU and GPU time via feedforward and backward pass"
      ]
    },
    {
      "cell_type": "code",
      "metadata": {
        "id": "0Uruw8Q4w5Cb",
        "colab_type": "code",
        "colab": {}
      },
      "source": [
        "import time"
      ],
      "execution_count": 0,
      "outputs": []
    },
    {
      "cell_type": "code",
      "metadata": {
        "id": "Rh0519Brw5vN",
        "colab_type": "code",
        "colab": {}
      },
      "source": [
        "for device in ['cpu', 'cuda']:\n",
        "\n",
        "    criterion = nn.NLLLoss()\n",
        "    # Only train the classifier parameters, feature parameters are frozen\n",
        "    optimizer = optim.Adam(model.classifier.parameters(), lr=0.001)\n",
        "\n",
        "    model.to(device)\n",
        "\n",
        "    for ii, (inputs, labels) in enumerate(trainloader):\n",
        "\n",
        "        # Move input and label tensors to the GPU\n",
        "        inputs, labels = inputs.to(device), labels.to(device)\n",
        "\n",
        "        start = time.time()\n",
        "\n",
        "        outputs = model.forward(inputs)\n",
        "        loss = criterion(outputs, labels)\n",
        "        loss.backward()\n",
        "        optimizer.step()\n",
        "\n",
        "        if ii==3:\n",
        "            break\n",
        "        \n",
        "    print(f\"Device = {device}; Time per batch: {(time.time() - start)/3:.3f} seconds\")"
      ],
      "execution_count": 0,
      "outputs": []
    },
    {
      "cell_type": "markdown",
      "metadata": {
        "id": "xg79mR1LxT9v",
        "colab_type": "text"
      },
      "source": [
        "## Training using Pre-trained models"
      ]
    },
    {
      "cell_type": "code",
      "metadata": {
        "id": "qsiT7qnCxZe_",
        "colab_type": "code",
        "colab": {}
      },
      "source": [
        "# Use GPU if it's available\n",
        "device = torch.device(\"cuda\" if torch.cuda.is_available() else \"cpu\")\n",
        "\n",
        "model = models.densenet121(pretrained=True)\n",
        "\n",
        "# Freeze parameters so we don't backprop through them\n",
        "for param in model.parameters():\n",
        "    param.requires_grad = False\n",
        "    \n",
        "model.classifier = nn.Sequential(nn.Linear(1024, 256),\n",
        "                                 nn.ReLU(),\n",
        "                                 nn.Dropout(0.2),\n",
        "                                 nn.Linear(256, 2),\n",
        "                                 nn.LogSoftmax(dim=1))\n",
        "\n",
        "criterion = nn.NLLLoss()\n",
        "\n",
        "# Only train the classifier parameters, feature parameters are frozen\n",
        "optimizer = optim.Adam(model.classifier.parameters(), lr=0.003)\n",
        "\n",
        "model.to(device);"
      ],
      "execution_count": 0,
      "outputs": []
    },
    {
      "cell_type": "code",
      "metadata": {
        "id": "Eiiok0UKxa6s",
        "colab_type": "code",
        "colab": {}
      },
      "source": [
        "epochs = 5\n",
        "steps = 0\n",
        "running_loss = 0\n",
        "print_every = 5\n",
        "for epoch in range(epochs):\n",
        "    for inputs, labels in trainloader:\n",
        "        steps += 1\n",
        "        # Move input and label tensors to the default device\n",
        "        inputs, labels = inputs.to(device), labels.to(device)\n",
        "        \n",
        "        optimizer.zero_grad()\n",
        "        \n",
        "        logps = model.forward(inputs)\n",
        "        loss = criterion(logps, labels)\n",
        "        loss.backward()\n",
        "        optimizer.step()\n",
        "\n",
        "        running_loss += loss.item()\n",
        "        \n",
        "        if steps % print_every == 0:\n",
        "            test_loss = 0\n",
        "            accuracy = 0\n",
        "            model.eval()\n",
        "            with torch.no_grad():\n",
        "                for inputs, labels in testloader:\n",
        "                    inputs, labels = inputs.to(device), labels.to(device)\n",
        "                    logps = model.forward(inputs)\n",
        "                    batch_loss = criterion(logps, labels)\n",
        "                    \n",
        "                    test_loss += batch_loss.item()\n",
        "                    \n",
        "                    # Calculate accuracy\n",
        "                    ps = torch.exp(logps)\n",
        "                    top_p, top_class = ps.topk(1, dim=1)\n",
        "                    equals = top_class == labels.view(*top_class.shape)\n",
        "                    accuracy += torch.mean(equals.type(torch.FloatTensor)).item()\n",
        "                    \n",
        "            print(f\"Epoch {epoch+1}/{epochs}.. \"\n",
        "                  f\"Train loss: {running_loss/print_every:.3f}.. \"\n",
        "                  f\"Test loss: {test_loss/len(testloader):.3f}.. \"\n",
        "                  f\"Test accuracy: {accuracy/len(testloader):.3f}\")\n",
        "            running_loss = 0\n",
        "            model.train()"
      ],
      "execution_count": 0,
      "outputs": []
    },
    {
      "cell_type": "markdown",
      "metadata": {
        "id": "Z7W07hdHxdEG",
        "colab_type": "text"
      },
      "source": [
        "# Congratulations!\n",
        "\n",
        "As this being the last notebook in Lesson 5: Introduction to PyTorch you learned:\n",
        "1. Using PyTorch Tensors to Build Neural Networks\n",
        "\n",
        "2. Defining Neural Networks in PyTorch (plus Forward Pass)\n",
        "3. Training Neural Networks\n",
        "\n",
        "4. Multi-Class Classification via Fashion MNIST\n",
        "\n",
        "5. Validation Pass, Improving Performance and Inference\n",
        "6. Saving and Loading Models\n",
        "\n",
        "7. More on Preliminaries (Before Training) \n",
        "\n",
        "8. Transfer Learning"
      ]
    },
    {
      "cell_type": "markdown",
      "metadata": {
        "id": "0y4745A1yX5N",
        "colab_type": "text"
      },
      "source": [
        "# Next Up!\n",
        "\n",
        "Since we've been dealing with images, let's dive in to Lesson 6: Introduction to Convolutional Neural Networks (CNN) to know more about it!"
      ]
    }
  ]
}